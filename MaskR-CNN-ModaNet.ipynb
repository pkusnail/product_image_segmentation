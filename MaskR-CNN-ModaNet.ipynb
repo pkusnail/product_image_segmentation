{
 "cells": [
  {
   "cell_type": "code",
   "execution_count": 1,
   "metadata": {},
   "outputs": [],
   "source": [
    "\n",
    "\n",
    "################################ GLOBAL VARIABLES ############################\n",
    "\n",
    "\n",
    "########## DATA ##########\n",
    "MODANET_ANNO = \"modanet/annotations/modanet2018_instances_train.json\"\n",
    "MODANET_VAL = \"modanet/annotations/modanet2018_instances_val.json\"\n",
    "\n",
    "PAPERDOLL_META_DB = \"/root/product_image_segmentation/data/paperdoll/chictopia.sqlite3\"\n",
    "PAPERDOLL_IMG_DB = \"/root/product_image_segmentation/data/paperdoll/photos.lmdb\"\n",
    "PAPERDOLL_IMG_SITE = \"http://images2.chictopia.com\"\n",
    "\n",
    "\n",
    "\n",
    "########## MODEL ##########\n",
    "JOB_NAME = \"MODANET\"\n",
    "MODEL_TYPE = 'resnet50'\n",
    "NUM_CATS = 13\n",
    "IMAGE_SIZE = 512 #INPUT IMAGE SIZE : IMAGE_SIZE * IMAGE_SIZE\n",
    "\n",
    "GPU_NUM = 1 #1# 2# 4# #8\n",
    "IMAGES_PER_GPU_PER_IT = 4 #4 \n",
    "\n",
    "\n",
    "STEPS_PER_EPOCH_NUM = 1000 #40000\n",
    "VALIDATION_STEPS_NUM = 100\n",
    "\n",
    "\n",
    "LR = 1e-4\n",
    "#EPOCHS = [2, 4, 8, 16, 32, 64]\n",
    "EPOCHS = [2, 4, 8, 9, 10, 11]\n",
    "\n",
    "N_FOLDS = 5\n",
    "SELECT_FOLD_IDX = 3\n",
    "\n",
    "\n",
    "## pretrain data\n",
    "FGVC6_WEIGHT_FIEL = \"/root/product_image_segmentation/weight_files/mask_rcnn_FGVC6_0008.h5\" \n",
    "LOG_DIR = \"/root/product_image_segmentation/weight_files/logs\"\n",
    "###########################################################################\n",
    "    \n"
   ]
  },
  {
   "cell_type": "code",
   "execution_count": 32,
   "metadata": {},
   "outputs": [],
   "source": [
    "import json\n",
    "from pycocotools.coco import COCO\n",
    "import numpy as np\n",
    "import skimage.io as imio\n",
    "import matplotlib.pyplot as plt\n",
    "import pylab\n",
    "\n",
    "\n",
    "\n",
    "import io\n",
    "import lmdb\n",
    "import sqlite3\n",
    "import pandas as pd\n",
    "from PIL import Image\n",
    "from IPython.display import display\n",
    "\n",
    "\n",
    "\n"
   ]
  },
  {
   "cell_type": "code",
   "execution_count": 12,
   "metadata": {},
   "outputs": [
    {
     "name": "stdout",
     "output_type": "stream",
     "text": [
      "photos = 1100987\n"
     ]
    },
    {
     "data": {
      "text/html": [
       "<div>\n",
       "<style scoped>\n",
       "    .dataframe tbody tr th:only-of-type {\n",
       "        vertical-align: middle;\n",
       "    }\n",
       "\n",
       "    .dataframe tbody tr th {\n",
       "        vertical-align: top;\n",
       "    }\n",
       "\n",
       "    .dataframe thead th {\n",
       "        text-align: right;\n",
       "    }\n",
       "</style>\n",
       "<table border=\"1\" class=\"dataframe\">\n",
       "  <thead>\n",
       "    <tr style=\"text-align: right;\">\n",
       "      <th></th>\n",
       "      <th>id</th>\n",
       "      <th>post_id</th>\n",
       "      <th>path</th>\n",
       "      <th>status</th>\n",
       "      <th>file_file_name</th>\n",
       "      <th>file_file_size</th>\n",
       "      <th>file_content_type</th>\n",
       "      <th>file_updated_at</th>\n",
       "      <th>width</th>\n",
       "      <th>height</th>\n",
       "      <th>created_at</th>\n",
       "      <th>updated_at</th>\n",
       "      <th>url</th>\n",
       "    </tr>\n",
       "  </thead>\n",
       "  <tbody>\n",
       "    <tr>\n",
       "      <th>0</th>\n",
       "      <td>1</td>\n",
       "      <td>61</td>\n",
       "      <td>/photos/thefashbot/1930972049/1930972049_400.jpg</td>\n",
       "      <td>2</td>\n",
       "      <td>open-uri20120907-29328-3yd0mp</td>\n",
       "      <td>122564</td>\n",
       "      <td>image/jpeg</td>\n",
       "      <td>2012-09-07 23:07:38.719079</td>\n",
       "      <td>400</td>\n",
       "      <td>600</td>\n",
       "      <td>2012-09-07 23:07:38.441357</td>\n",
       "      <td>2012-09-07 23:07:39.456904</td>\n",
       "      <td>http://images2.chictopia.com//photos/thefashbo...</td>\n",
       "    </tr>\n",
       "    <tr>\n",
       "      <th>1</th>\n",
       "      <td>2</td>\n",
       "      <td>73</td>\n",
       "      <td>/photos/thefashbot/3613535083/3613535083_400.jpg</td>\n",
       "      <td>2</td>\n",
       "      <td>open-uri20120907-29328-1szdum6</td>\n",
       "      <td>119821</td>\n",
       "      <td>image/jpeg</td>\n",
       "      <td>2012-09-07 23:07:45.966209</td>\n",
       "      <td>400</td>\n",
       "      <td>600</td>\n",
       "      <td>2012-09-07 23:07:45.721208</td>\n",
       "      <td>2012-09-07 23:07:46.438801</td>\n",
       "      <td>http://images2.chictopia.com//photos/thefashbo...</td>\n",
       "    </tr>\n",
       "    <tr>\n",
       "      <th>2</th>\n",
       "      <td>3</td>\n",
       "      <td>73</td>\n",
       "      <td>/photos/thefashbot/3613535083/3420751783/34207...</td>\n",
       "      <td>2</td>\n",
       "      <td>open-uri20120907-29328-1uz77bi</td>\n",
       "      <td>115073</td>\n",
       "      <td>image/jpeg</td>\n",
       "      <td>2012-09-07 23:07:46.825511</td>\n",
       "      <td>400</td>\n",
       "      <td>600</td>\n",
       "      <td>2012-09-07 23:07:45.785651</td>\n",
       "      <td>2012-09-07 23:07:47.722063</td>\n",
       "      <td>http://images2.chictopia.com//photos/thefashbo...</td>\n",
       "    </tr>\n",
       "    <tr>\n",
       "      <th>3</th>\n",
       "      <td>4</td>\n",
       "      <td>85</td>\n",
       "      <td>/photos/thefashbot/10902372197/10902372197_400...</td>\n",
       "      <td>2</td>\n",
       "      <td>open-uri20120907-29328-1nqep2j</td>\n",
       "      <td>115259</td>\n",
       "      <td>image/jpeg</td>\n",
       "      <td>2012-09-07 23:07:53.314908</td>\n",
       "      <td>400</td>\n",
       "      <td>600</td>\n",
       "      <td>2012-09-07 23:07:52.920956</td>\n",
       "      <td>2012-09-07 23:07:54.329817</td>\n",
       "      <td>http://images2.chictopia.com//photos/thefashbo...</td>\n",
       "    </tr>\n",
       "    <tr>\n",
       "      <th>4</th>\n",
       "      <td>5</td>\n",
       "      <td>98</td>\n",
       "      <td>/photos/thefashbot/4328323416/4328323416_400.jpg</td>\n",
       "      <td>2</td>\n",
       "      <td>open-uri20120907-29328-10ax6ou</td>\n",
       "      <td>123235</td>\n",
       "      <td>image/jpeg</td>\n",
       "      <td>2012-09-07 23:08:00.645646</td>\n",
       "      <td>400</td>\n",
       "      <td>600</td>\n",
       "      <td>2012-09-07 23:08:00.081276</td>\n",
       "      <td>2012-09-07 23:08:01.889023</td>\n",
       "      <td>http://images2.chictopia.com//photos/thefashbo...</td>\n",
       "    </tr>\n",
       "  </tbody>\n",
       "</table>\n",
       "</div>"
      ],
      "text/plain": [
       "   id  post_id                                               path  status  \\\n",
       "0   1       61   /photos/thefashbot/1930972049/1930972049_400.jpg       2   \n",
       "1   2       73   /photos/thefashbot/3613535083/3613535083_400.jpg       2   \n",
       "2   3       73  /photos/thefashbot/3613535083/3420751783/34207...       2   \n",
       "3   4       85  /photos/thefashbot/10902372197/10902372197_400...       2   \n",
       "4   5       98   /photos/thefashbot/4328323416/4328323416_400.jpg       2   \n",
       "\n",
       "                   file_file_name  file_file_size file_content_type  \\\n",
       "0   open-uri20120907-29328-3yd0mp          122564        image/jpeg   \n",
       "1  open-uri20120907-29328-1szdum6          119821        image/jpeg   \n",
       "2  open-uri20120907-29328-1uz77bi          115073        image/jpeg   \n",
       "3  open-uri20120907-29328-1nqep2j          115259        image/jpeg   \n",
       "4  open-uri20120907-29328-10ax6ou          123235        image/jpeg   \n",
       "\n",
       "              file_updated_at  width  height                  created_at  \\\n",
       "0  2012-09-07 23:07:38.719079    400     600  2012-09-07 23:07:38.441357   \n",
       "1  2012-09-07 23:07:45.966209    400     600  2012-09-07 23:07:45.721208   \n",
       "2  2012-09-07 23:07:46.825511    400     600  2012-09-07 23:07:45.785651   \n",
       "3  2012-09-07 23:07:53.314908    400     600  2012-09-07 23:07:52.920956   \n",
       "4  2012-09-07 23:08:00.645646    400     600  2012-09-07 23:08:00.081276   \n",
       "\n",
       "                   updated_at  \\\n",
       "0  2012-09-07 23:07:39.456904   \n",
       "1  2012-09-07 23:07:46.438801   \n",
       "2  2012-09-07 23:07:47.722063   \n",
       "3  2012-09-07 23:07:54.329817   \n",
       "4  2012-09-07 23:08:01.889023   \n",
       "\n",
       "                                                 url  \n",
       "0  http://images2.chictopia.com//photos/thefashbo...  \n",
       "1  http://images2.chictopia.com//photos/thefashbo...  \n",
       "2  http://images2.chictopia.com//photos/thefashbo...  \n",
       "3  http://images2.chictopia.com//photos/thefashbo...  \n",
       "4  http://images2.chictopia.com//photos/thefashbo...  "
      ]
     },
     "execution_count": 12,
     "metadata": {},
     "output_type": "execute_result"
    }
   ],
   "source": [
    "access_str=\"file:\"+PAPERDOLL_META_DB+\"?mode=ro\"\n",
    "#db = sqlite3.connect('file:chictopia.sqlite3?mode=ro', uri=True)\n",
    "meta_db = sqlite3.connect(access_str, uri=True)\n",
    "photos = pd.read_sql(\"\"\"\n",
    "    SELECT\n",
    "        *,\n",
    "        'http://images2.chictopia.com/' || path AS url\n",
    "    FROM photos\n",
    "    WHERE photos.post_id IS NOT NULL AND file_file_size IS NOT NULL\n",
    "\"\"\", con=meta_db)\n",
    "print('photos = %d' % (len(photos)))\n",
    "photos.head()"
   ]
  },
  {
   "cell_type": "code",
   "execution_count": 55,
   "metadata": {},
   "outputs": [],
   "source": [
    "photo_meta_db = pd.read_sql(\"\"\"\n",
    "    SELECT\n",
    "        *\n",
    "    FROM photos\n",
    "    WHERE photos.post_id IS NOT NULL AND file_file_size IS NOT NULL\n",
    "\"\"\", con=meta_db)\n",
    "#http://images2.chictopia.com/photos/thefashbot/1930972049/1930972049_400.jpg\n"
   ]
  },
  {
   "cell_type": "code",
   "execution_count": 56,
   "metadata": {},
   "outputs": [
    {
     "data": {
      "text/html": [
       "<div>\n",
       "<style scoped>\n",
       "    .dataframe tbody tr th:only-of-type {\n",
       "        vertical-align: middle;\n",
       "    }\n",
       "\n",
       "    .dataframe tbody tr th {\n",
       "        vertical-align: top;\n",
       "    }\n",
       "\n",
       "    .dataframe thead th {\n",
       "        text-align: right;\n",
       "    }\n",
       "</style>\n",
       "<table border=\"1\" class=\"dataframe\">\n",
       "  <thead>\n",
       "    <tr style=\"text-align: right;\">\n",
       "      <th></th>\n",
       "      <th>id</th>\n",
       "      <th>post_id</th>\n",
       "      <th>path</th>\n",
       "      <th>status</th>\n",
       "      <th>file_file_name</th>\n",
       "      <th>file_file_size</th>\n",
       "      <th>file_content_type</th>\n",
       "      <th>file_updated_at</th>\n",
       "      <th>width</th>\n",
       "      <th>height</th>\n",
       "      <th>created_at</th>\n",
       "      <th>updated_at</th>\n",
       "    </tr>\n",
       "  </thead>\n",
       "  <tbody>\n",
       "    <tr>\n",
       "      <th>0</th>\n",
       "      <td>1</td>\n",
       "      <td>61</td>\n",
       "      <td>/photos/thefashbot/1930972049/1930972049_400.jpg</td>\n",
       "      <td>2</td>\n",
       "      <td>open-uri20120907-29328-3yd0mp</td>\n",
       "      <td>122564</td>\n",
       "      <td>image/jpeg</td>\n",
       "      <td>2012-09-07 23:07:38.719079</td>\n",
       "      <td>400</td>\n",
       "      <td>600</td>\n",
       "      <td>2012-09-07 23:07:38.441357</td>\n",
       "      <td>2012-09-07 23:07:39.456904</td>\n",
       "    </tr>\n",
       "    <tr>\n",
       "      <th>1</th>\n",
       "      <td>2</td>\n",
       "      <td>73</td>\n",
       "      <td>/photos/thefashbot/3613535083/3613535083_400.jpg</td>\n",
       "      <td>2</td>\n",
       "      <td>open-uri20120907-29328-1szdum6</td>\n",
       "      <td>119821</td>\n",
       "      <td>image/jpeg</td>\n",
       "      <td>2012-09-07 23:07:45.966209</td>\n",
       "      <td>400</td>\n",
       "      <td>600</td>\n",
       "      <td>2012-09-07 23:07:45.721208</td>\n",
       "      <td>2012-09-07 23:07:46.438801</td>\n",
       "    </tr>\n",
       "    <tr>\n",
       "      <th>2</th>\n",
       "      <td>3</td>\n",
       "      <td>73</td>\n",
       "      <td>/photos/thefashbot/3613535083/3420751783/34207...</td>\n",
       "      <td>2</td>\n",
       "      <td>open-uri20120907-29328-1uz77bi</td>\n",
       "      <td>115073</td>\n",
       "      <td>image/jpeg</td>\n",
       "      <td>2012-09-07 23:07:46.825511</td>\n",
       "      <td>400</td>\n",
       "      <td>600</td>\n",
       "      <td>2012-09-07 23:07:45.785651</td>\n",
       "      <td>2012-09-07 23:07:47.722063</td>\n",
       "    </tr>\n",
       "    <tr>\n",
       "      <th>3</th>\n",
       "      <td>4</td>\n",
       "      <td>85</td>\n",
       "      <td>/photos/thefashbot/10902372197/10902372197_400...</td>\n",
       "      <td>2</td>\n",
       "      <td>open-uri20120907-29328-1nqep2j</td>\n",
       "      <td>115259</td>\n",
       "      <td>image/jpeg</td>\n",
       "      <td>2012-09-07 23:07:53.314908</td>\n",
       "      <td>400</td>\n",
       "      <td>600</td>\n",
       "      <td>2012-09-07 23:07:52.920956</td>\n",
       "      <td>2012-09-07 23:07:54.329817</td>\n",
       "    </tr>\n",
       "    <tr>\n",
       "      <th>4</th>\n",
       "      <td>5</td>\n",
       "      <td>98</td>\n",
       "      <td>/photos/thefashbot/4328323416/4328323416_400.jpg</td>\n",
       "      <td>2</td>\n",
       "      <td>open-uri20120907-29328-10ax6ou</td>\n",
       "      <td>123235</td>\n",
       "      <td>image/jpeg</td>\n",
       "      <td>2012-09-07 23:08:00.645646</td>\n",
       "      <td>400</td>\n",
       "      <td>600</td>\n",
       "      <td>2012-09-07 23:08:00.081276</td>\n",
       "      <td>2012-09-07 23:08:01.889023</td>\n",
       "    </tr>\n",
       "  </tbody>\n",
       "</table>\n",
       "</div>"
      ],
      "text/plain": [
       "   id  post_id                                               path  status  \\\n",
       "0   1       61   /photos/thefashbot/1930972049/1930972049_400.jpg       2   \n",
       "1   2       73   /photos/thefashbot/3613535083/3613535083_400.jpg       2   \n",
       "2   3       73  /photos/thefashbot/3613535083/3420751783/34207...       2   \n",
       "3   4       85  /photos/thefashbot/10902372197/10902372197_400...       2   \n",
       "4   5       98   /photos/thefashbot/4328323416/4328323416_400.jpg       2   \n",
       "\n",
       "                   file_file_name  file_file_size file_content_type  \\\n",
       "0   open-uri20120907-29328-3yd0mp          122564        image/jpeg   \n",
       "1  open-uri20120907-29328-1szdum6          119821        image/jpeg   \n",
       "2  open-uri20120907-29328-1uz77bi          115073        image/jpeg   \n",
       "3  open-uri20120907-29328-1nqep2j          115259        image/jpeg   \n",
       "4  open-uri20120907-29328-10ax6ou          123235        image/jpeg   \n",
       "\n",
       "              file_updated_at  width  height                  created_at  \\\n",
       "0  2012-09-07 23:07:38.719079    400     600  2012-09-07 23:07:38.441357   \n",
       "1  2012-09-07 23:07:45.966209    400     600  2012-09-07 23:07:45.721208   \n",
       "2  2012-09-07 23:07:46.825511    400     600  2012-09-07 23:07:45.785651   \n",
       "3  2012-09-07 23:07:53.314908    400     600  2012-09-07 23:07:52.920956   \n",
       "4  2012-09-07 23:08:00.645646    400     600  2012-09-07 23:08:00.081276   \n",
       "\n",
       "                   updated_at  \n",
       "0  2012-09-07 23:07:39.456904  \n",
       "1  2012-09-07 23:07:46.438801  \n",
       "2  2012-09-07 23:07:47.722063  \n",
       "3  2012-09-07 23:07:54.329817  \n",
       "4  2012-09-07 23:08:01.889023  "
      ]
     },
     "execution_count": 56,
     "metadata": {},
     "output_type": "execute_result"
    }
   ],
   "source": [
    "photo_meta_db.head()"
   ]
  },
  {
   "cell_type": "code",
   "execution_count": 57,
   "metadata": {},
   "outputs": [
    {
     "data": {
      "text/plain": [
       "'/photos/fashionimmersion/3837920277/5481439287/white-white-banana-republic-dress-dark-brown-brown-vintage-louis-vuitton-bag-_400.jpg'"
      ]
     },
     "execution_count": 57,
     "metadata": {},
     "output_type": "execute_result"
    }
   ],
   "source": [
    "photo_meta_db['path'][396602]# 1 is the pic ID"
   ]
  },
  {
   "cell_type": "code",
   "execution_count": 49,
   "metadata": {},
   "outputs": [
    {
     "name": "stdout",
     "output_type": "stream",
     "text": [
      "1097474\n"
     ]
    }
   ],
   "source": [
    "#Photo data in LMDB\n",
    "\n",
    "class PhotoData(object):\n",
    "    def __init__(self, path):\n",
    "        self.env = lmdb.open(\n",
    "            path, map_size=2**36, readonly=True, lock=False\n",
    "        )\n",
    "        \n",
    "    def __iter__(self):\n",
    "        with self.env.begin() as t:\n",
    "            with t.cursor() as c:\n",
    "                for key, value in c:\n",
    "                    yield key, value\n",
    "        \n",
    "    def __getitem__(self, index):\n",
    "        key = str(index).encode('ascii')\n",
    "        with self.env.begin() as t:\n",
    "            data = t.get(key)\n",
    "        if not data:\n",
    "            return None\n",
    "        with io.BytesIO(data) as f:\n",
    "            image = Image.open(f)\n",
    "            image.load()\n",
    "            return image\n",
    "        \n",
    "    def __len__(self):\n",
    "        return self.env.stat()['entries']\n",
    "    \n",
    "    \n",
    "photo_data_set = PhotoData(PAPERDOLL_IMG_DB)\n",
    "print(len(photo_data_set))"
   ]
  },
  {
   "cell_type": "code",
   "execution_count": null,
   "metadata": {
    "scrolled": false
   },
   "outputs": [],
   "source": [
    "for i in range(3):\n",
    "    photo_meta = photo_meta_db.iloc[i]\n",
    "    print(photo_meta)\n",
    "    #print(photo_meta['post_id'])\n",
    "    #print(photo.url)\n",
    "    display(photo_data_set[photo_meta['id']])"
   ]
  },
  {
   "cell_type": "code",
   "execution_count": 19,
   "metadata": {},
   "outputs": [
    {
     "name": "stdout",
     "output_type": "stream",
     "text": [
      "loading annotations into memory...\n",
      "Done (t=5.87s)\n",
      "creating index...\n",
      "index created!\n"
     ]
    }
   ],
   "source": [
    "\n",
    "# initialize COCO api for instance annotations\n",
    "coco=COCO(MODANET_ANNO)\n",
    "\n",
    "\n"
   ]
  },
  {
   "cell_type": "code",
   "execution_count": 78,
   "metadata": {},
   "outputs": [
    {
     "name": "stdout",
     "output_type": "stream",
     "text": [
      "[{'supercategory': 'fashion', 'id': 1, 'name': 'bag'}, {'supercategory': 'fashion', 'id': 2, 'name': 'belt'}, {'supercategory': 'fashion', 'id': 3, 'name': 'boots'}, {'supercategory': 'fashion', 'id': 4, 'name': 'footwear'}, {'supercategory': 'fashion', 'id': 5, 'name': 'outer'}, {'supercategory': 'fashion', 'id': 6, 'name': 'dress'}, {'supercategory': 'fashion', 'id': 7, 'name': 'sunglasses'}, {'supercategory': 'fashion', 'id': 8, 'name': 'pants'}, {'supercategory': 'fashion', 'id': 9, 'name': 'top'}, {'supercategory': 'fashion', 'id': 10, 'name': 'shorts'}, {'supercategory': 'fashion', 'id': 11, 'name': 'skirt'}, {'supercategory': 'fashion', 'id': 12, 'name': 'headwear'}, {'supercategory': 'fashion', 'id': 13, 'name': 'scarf/tie'}]\n",
      "['bag', 'belt', 'boots', 'footwear', 'outer', 'dress', 'sunglasses', 'pants', 'top', 'shorts', 'skirt', 'headwear', 'scarf/tie']\n",
      "COCO categories: \n",
      "bag belt boots footwear outer dress sunglasses pants top shorts skirt headwear scarf/tie\n",
      "\n",
      "COCO supercategories: \n",
      "fashion\n"
     ]
    }
   ],
   "source": [
    "# display COCO categories and supercategories\n",
    "cats = coco.loadCats(coco.getCatIds())\n",
    "nms=[cat['name'] for cat in cats]\n",
    "print(cats)\n",
    "print(nms)\n",
    "print('COCO categories: \\n{}\\n'.format(' '.join(nms)))\n",
    "\n",
    "nms = set([cat['supercategory'] for cat in cats])\n",
    "print('COCO supercategories: \\n{}'.format(' '.join(nms)))"
   ]
  },
  {
   "cell_type": "code",
   "execution_count": 62,
   "metadata": {},
   "outputs": [
    {
     "data": {
      "text/plain": [
       "id                                                              401269\n",
       "post_id                                                         256352\n",
       "path                 /photos/fashionimmersion/3837920277/5481439287...\n",
       "status                                                               2\n",
       "file_file_name                          open-uri20120910-14596-1dfr25v\n",
       "file_file_size                                                   53669\n",
       "file_content_type                                           image/jpeg\n",
       "file_updated_at                             2012-09-11 02:11:24.354232\n",
       "width                                                              400\n",
       "height                                                             600\n",
       "created_at                                  2012-09-11 02:11:23.213836\n",
       "updated_at                                  2012-09-11 02:11:24.813648\n",
       "Name: 396602, dtype: object"
      ]
     },
     "execution_count": 62,
     "metadata": {},
     "output_type": "execute_result"
    }
   ],
   "source": [
    "photo_meta_db.iloc[img['id']]\n"
   ]
  },
  {
   "cell_type": "code",
   "execution_count": 65,
   "metadata": {},
   "outputs": [
    {
     "name": "stdout",
     "output_type": "stream",
     "text": [
      "<class 'pandas.core.frame.DataFrame'>\n",
      "<class 'pandas.core.frame.DataFrame'>\n",
      "RangeIndex: 1100987 entries, 0 to 1100986\n",
      "Data columns (total 12 columns):\n",
      "id                   1100987 non-null int64\n",
      "post_id              1100987 non-null int64\n",
      "path                 1100987 non-null object\n",
      "status               1100987 non-null int64\n",
      "file_file_name       1100987 non-null object\n",
      "file_file_size       1100987 non-null int64\n",
      "file_content_type    1100987 non-null object\n",
      "file_updated_at      1100987 non-null object\n",
      "width                1100987 non-null int64\n",
      "height               1100987 non-null int64\n",
      "created_at           1100987 non-null object\n",
      "updated_at           1100987 non-null object\n",
      "dtypes: int64(6), object(6)\n",
      "memory usage: 100.8+ MB\n"
     ]
    }
   ],
   "source": [
    "print(type(photo_meta_db))\n",
    "photo_meta_db.info()"
   ]
  },
  {
   "cell_type": "code",
   "execution_count": 69,
   "metadata": {},
   "outputs": [
    {
     "name": "stdout",
     "output_type": "stream",
     "text": [
      "401269\n",
      "396602\n",
      "            id  post_id                                               path  \\\n",
      "392277  396602   148795  /photos/cynchmolina/9468333559/black-forever-2...   \n",
      "\n",
      "        status                  file_file_name  file_file_size  \\\n",
      "392277       2  open-uri20120910-14596-1y727jk           99536   \n",
      "\n",
      "       file_content_type             file_updated_at  width  height  \\\n",
      "392277        image/jpeg  2012-09-11 01:39:15.151887    400     600   \n",
      "\n",
      "                        created_at                  updated_at  \n",
      "392277  2012-09-11 01:39:14.342682  2012-09-11 01:39:15.827168  \n"
     ]
    }
   ],
   "source": [
    "print(photo_meta_db['id'][img['id']])\n",
    "print(img['id'])\n",
    "print(photo_meta_db[photo_meta_db['id']==img['id']])"
   ]
  },
  {
   "cell_type": "code",
   "execution_count": 114,
   "metadata": {},
   "outputs": [
    {
     "name": "stdout",
     "output_type": "stream",
     "text": [
      "{'file_name': '0396602.jpg', 'width': 400, 'id': 396602, 'license': 3, 'height': 600}\n",
      "396602\n",
      "http://images2.chictopia.com/photos/fashionimmersion/3837920277/5481439287/white-white-banana-republic-dress-dark-brown-brown-vintage-louis-vuitton-bag-_400.jpg\n",
      "/photos/fashionimmersion/3837920277/5481439287/white-white-banana-republic-dress-dark-brown-brown-vintage-louis-vuitton-bag-_400.jpg\n"
     ]
    }
   ],
   "source": [
    "# get all images containing given categories, select one at random\n",
    "#catIds = coco.getCatIds(catNms=['bag','belt','shorts']);\n",
    "catIds = coco.getCatIds(catNms=nms);\n",
    "#imgIds = coco.getImgIds(catIds=catIds );\n",
    "imgIds = coco.getImgIds(imgIds = [396602])\n",
    "\n",
    "#img = coco.loadImgs(imgIds[np.random.randint(0,len(imgIds))])[0]\n",
    "import os \n",
    "print(img)\n",
    "print(img['id'])\n",
    "photo_meta_db.iloc[i]\n",
    "print(PAPERDOLL_IMG_SITE + photo_meta_db['path'][img['id']])\n",
    "print(os.path.join(PAPERDOLL_IMG_SITE , photo_meta_db['path'][img['id']]))"
   ]
  },
  {
   "cell_type": "code",
   "execution_count": 102,
   "metadata": {},
   "outputs": [
    {
     "name": "stdout",
     "output_type": "stream",
     "text": [
      "---->             id  post_id                                               path  \\\n",
      "392277  396602   148795  /photos/cynchmolina/9468333559/black-forever-2...   \n",
      "\n",
      "        status                  file_file_name  file_file_size  \\\n",
      "392277       2  open-uri20120910-14596-1y727jk           99536   \n",
      "\n",
      "       file_content_type             file_updated_at  width  height  \\\n",
      "392277        image/jpeg  2012-09-11 01:39:15.151887    400     600   \n",
      "\n",
      "                        created_at                  updated_at  \n",
      "392277  2012-09-11 01:39:14.342682  2012-09-11 01:39:15.827168  \n",
      "width----> 400\n",
      "height----> 600\n",
      "path----> /photos/cynchmolina/9468333559/black-forever-21-shoes-off-white-striped-h-m-sweater-yellow-luce-alati-bag_400.jpg\n"
     ]
    },
    {
     "data": {
      "image/png": "[encoded data removed]",
      "text/plain": [
       "<Figure size 432x288 with 1 Axes>"
      ]
     },
     "metadata": {
      "needs_background": "light"
     },
     "output_type": "display_data"
    }
   ],
   "source": [
    "# load and display image\n",
    "# I = io.imread('%s/images/%s/%s'%(dataDir,dataType,img['file_name']))\n",
    "# use url to load image\n",
    "#I = imio.imread(PAPERDOLL_IMG_SITE + pics['path'][img['id']])\n",
    "\n",
    "photo = photo_meta_db[photo_meta_db['id']==img['id']]\n",
    "\n",
    "print(\"---->\", photo)\n",
    "print(\"width---->\",photo['width'].values[0])\n",
    "print(\"height---->\",photo['height'].values[0])\n",
    "print(\"path---->\",photo['path'].values[0])\n",
    "#I = imio.imread( photo['path'])\n",
    "I = photo_data_set[img['id']]  ############################# get the image by image id\n",
    "plt.axis('off')\n",
    "plt.imshow(I)\n",
    "plt.show()"
   ]
  },
  {
   "cell_type": "code",
   "execution_count": 111,
   "metadata": {
    "scrolled": true
   },
   "outputs": [
    {
     "name": "stdout",
     "output_type": "stream",
     "text": [
      "<class '__main__.PhotoData'>\n"
     ]
    }
   ],
   "source": [
    "print(type(photo_data_set))"
   ]
  },
  {
   "cell_type": "code",
   "execution_count": 107,
   "metadata": {},
   "outputs": [
    {
     "name": "stdout",
     "output_type": "stream",
     "text": [
      "id                                                                  1\n",
      "post_id                                                            61\n",
      "path                 /photos/thefashbot/1930972049/1930972049_400.jpg\n",
      "status                                                              2\n",
      "file_file_name                          open-uri20120907-29328-3yd0mp\n",
      "file_file_size                                                 122564\n",
      "file_content_type                                          image/jpeg\n",
      "file_updated_at                            2012-09-07 23:07:38.719079\n",
      "width                                                             400\n",
      "height                                                            600\n",
      "created_at                                 2012-09-07 23:07:38.441357\n",
      "updated_at                                 2012-09-07 23:07:39.456904\n",
      "Name: 0, dtype: object\n",
      "id                                                                  2\n",
      "post_id                                                            73\n",
      "path                 /photos/thefashbot/3613535083/3613535083_400.jpg\n",
      "status                                                              2\n",
      "file_file_name                         open-uri20120907-29328-1szdum6\n",
      "file_file_size                                                 119821\n",
      "file_content_type                                          image/jpeg\n",
      "file_updated_at                            2012-09-07 23:07:45.966209\n",
      "width                                                             400\n",
      "height                                                            600\n",
      "created_at                                 2012-09-07 23:07:45.721208\n",
      "updated_at                                 2012-09-07 23:07:46.438801\n",
      "Name: 1, dtype: object\n",
      "id                                                                   3\n",
      "post_id                                                             73\n",
      "path                 /photos/thefashbot/3613535083/3420751783/34207...\n",
      "status                                                               2\n",
      "file_file_name                          open-uri20120907-29328-1uz77bi\n",
      "file_file_size                                                  115073\n",
      "file_content_type                                           image/jpeg\n",
      "file_updated_at                             2012-09-07 23:07:46.825511\n",
      "width                                                              400\n",
      "height                                                             600\n",
      "created_at                                  2012-09-07 23:07:45.785651\n",
      "updated_at                                  2012-09-07 23:07:47.722063\n",
      "Name: 2, dtype: object\n",
      "id                                                                   4\n",
      "post_id                                                             85\n",
      "path                 /photos/thefashbot/10902372197/10902372197_400...\n",
      "status                                                               2\n",
      "file_file_name                          open-uri20120907-29328-1nqep2j\n",
      "file_file_size                                                  115259\n",
      "file_content_type                                           image/jpeg\n",
      "file_updated_at                             2012-09-07 23:07:53.314908\n",
      "width                                                              400\n",
      "height                                                             600\n",
      "created_at                                  2012-09-07 23:07:52.920956\n",
      "updated_at                                  2012-09-07 23:07:54.329817\n",
      "Name: 3, dtype: object\n"
     ]
    }
   ],
   "source": [
    " for i, row in photo_meta_db.iterrows():\n",
    "        print(row)\n",
    "        if i > 2 :\n",
    "            break"
   ]
  },
  {
   "cell_type": "code",
   "execution_count": 106,
   "metadata": {},
   "outputs": [
    {
     "name": "stdout",
     "output_type": "stream",
     "text": [
      "0 1\n",
      "1 2\n",
      "2 3\n",
      "3 4\n"
     ]
    }
   ],
   "source": [
    " for i, row in photo_meta_db.iterrows():\n",
    "        print(i, row['id'])\n",
    "        if i > 2 :\n",
    "            break"
   ]
  },
  {
   "cell_type": "code",
   "execution_count": 108,
   "metadata": {},
   "outputs": [
    {
     "name": "stdout",
     "output_type": "stream",
     "text": [
      "[121030, 121031, 121032, 121033, 121034, 121035, 121036]\n",
      "[{'segmentation': [[204, 50, 218, 48, 224, 40, 232, 46, 246, 48, 252, 44, 256, 55, 256, 47, 250, 36, 233, 31, 231, 36, 220, 33, 206, 33, 201, 36, 197, 47, 202, 47]], 'area': 1416, 'iscrowd': 0, 'image_id': 396602, 'bbox': [197, 31, 59, 24], 'category_id': 7, 'id': 121030}, {'segmentation': [[279, 136, 273, 148, 271, 225, 273, 290, 269, 308, 275, 326, 273, 362, 273, 373, 283, 383, 258, 390, 244, 388, 238, 376, 238, 360, 244, 332, 244, 311, 256, 292, 264, 288, 264, 234, 262, 183, 267, 136, 272, 135]], 'area': 11475, 'iscrowd': 0, 'image_id': 396602, 'bbox': [238, 135, 45, 255], 'category_id': 1, 'id': 121031}, {'segmentation': [[285, 136, 303, 167, 292, 207, 295, 243, 289, 246, 291, 265, 291, 314, 270, 309, 273, 288, 272, 222, 273, 147, 279, 136], [250, 296, 214, 290, 172, 279, 150, 272, 148, 267, 135, 264, 126, 266, 137, 219, 153, 157, 162, 130, 173, 118, 185, 116, 179, 140, 166, 160, 163, 198, 170, 206, 186, 185, 202, 172, 208, 143, 238, 151, 229, 174, 231, 205, 240, 200, 251, 167, 265, 143, 267, 136, 262, 182, 265, 232, 264, 287]], 'area': 35046, 'iscrowd': 0, 'image_id': 396602, 'bbox': [126, 116, 177, 198], 'category_id': 9, 'id': 121032}, {'segmentation': [[154, 279, 187, 287, 217, 291, 220, 297, 232, 314, 237, 311, 223, 290, 215, 289, 173, 278, 149, 273]], 'area': 3608, 'iscrowd': 0, 'image_id': 396602, 'bbox': [149, 273, 88, 41], 'category_id': 2, 'id': 121033}, {'segmentation': [[152, 282, 143, 291, 145, 308, 142, 324, 141, 342, 191, 346, 197, 355, 226, 363, 238, 363, 244, 331, 244, 311, 252, 296, 224, 290, 238, 311, 231, 314, 220, 298, 215, 291, 186, 287, 158, 280]], 'area': 9213, 'iscrowd': 0, 'image_id': 396602, 'bbox': [141, 280, 111, 83], 'category_id': 10, 'id': 121034}, {'segmentation': [[195, 543, 205, 541, 204, 548, 207, 551, 215, 549, 219, 546, 220, 557, 218, 567, 203, 578, 185, 584, 169, 582, 164, 575, 173, 562, 185, 549, 182, 543, 191, 544], [159, 533, 171, 536, 177, 533, 183, 524, 186, 541, 182, 544, 184, 551, 175, 554, 164, 562, 157, 573, 139, 578, 126, 577, 123, 571, 136, 552, 149, 539, 155, 528]], 'area': 2408, 'iscrowd': 0, 'image_id': 396602, 'bbox': [123, 524, 56, 43], 'category_id': 4, 'id': 121035}, {'segmentation': [[195, 543, 205, 541, 204, 548, 207, 551, 215, 549, 219, 546, 220, 557, 218, 567, 203, 578, 185, 584, 169, 582, 164, 575, 173, 562, 185, 549, 182, 543, 191, 544], [159, 533, 171, 536, 177, 533, 183, 524, 186, 541, 182, 544, 184, 551, 175, 554, 164, 562, 157, 573, 139, 578, 126, 577, 123, 571, 136, 552, 149, 539, 155, 528]], 'area': 3402, 'iscrowd': 0, 'image_id': 396602, 'bbox': [123, 524, 63, 54], 'category_id': 4, 'id': 121036}]\n",
      "---> {'segmentation': [[204, 50, 218, 48, 224, 40, 232, 46, 246, 48, 252, 44, 256, 55, 256, 47, 250, 36, 233, 31, 231, 36, 220, 33, 206, 33, 201, 36, 197, 47, 202, 47]], 'area': 1416, 'iscrowd': 0, 'image_id': 396602, 'bbox': [197, 31, 59, 24], 'category_id': 7, 'id': 121030}\n",
      "type ---> <class 'dict'>\n",
      "image_id ---> 396602\n",
      "one polygan ---> [204, 50, 218, 48, 224, 40, 232, 46, 246, 48, 252, 44, 256, 55, 256, 47, 250, 36, 233, 31, 231, 36, 220, 33, 206, 33, 201, 36, 197, 47, 202, 47]\n",
      "7\n",
      "1\n",
      "9\n",
      "2\n",
      "10\n",
      "4\n",
      "4\n"
     ]
    },
    {
     "data": {
      "image/png": "[encoded data removed]",
      "text/plain": [
       "<Figure size 432x288 with 1 Axes>"
      ]
     },
     "metadata": {
      "needs_background": "light"
     },
     "output_type": "display_data"
    }
   ],
   "source": [
    "\n",
    "#photo_meta_db[photo_meta_db['id']==img['id']]\n",
    "\n",
    "# load and display instance annotations\n",
    "plt.imshow(I)\n",
    "plt.axis('on')\n",
    "annIds = coco.getAnnIds(imgIds=img['id'], catIds=catIds, iscrowd=None)  #####get the anno by image id\n",
    "print(annIds)\n",
    "anns = coco.loadAnns(annIds)\n",
    "print(anns)\n",
    "coco.showAnns(anns)\n",
    "\n",
    "print(\"--->\", anns[0])\n",
    "print(\"type --->\", type(anns[0]))\n",
    "print(\"image_id --->\",anns[0]['image_id'])\n",
    "\"\"\"\n",
    "{'segmentation': [\n",
    "    [204, 50, 218, 48, 224, 40, 232, 46, 246, 48, 252, 44, 256, 55, 256, 47, 250, 36, 233, 31, 231, 36, 220, 33, 206, 33, 201, 36, 197, 47, 202, 47]\n",
    "    ], \n",
    "'area': 1416,\n",
    "'iscrowd': 0, \n",
    "'image_id': 396602, \n",
    "'bbox': [197, 31, 59, 24], \n",
    "'category_id': 7, \n",
    "'id': 121030\n",
    "}\n",
    "\"\"\"\n",
    "for xx in anns[0]['segmentation']:\n",
    "    print(\"one polygan --->\", xx)\n",
    "\n",
    "for one in anns:\n",
    "    print(one['category_id'])\n"
   ]
  },
  {
   "cell_type": "markdown",
   "metadata": {},
   "source": [
    "# Train Model"
   ]
  },
  {
   "cell_type": "code",
   "execution_count": 37,
   "metadata": {},
   "outputs": [],
   "source": [
    "import os\n",
    "import io\n",
    "import sys\n",
    "import json\n",
    "import datetime\n",
    "import numpy as np\n",
    "import skimage.draw\n",
    "\n",
    "from pycocotools.coco import COCO\n",
    "import skimage.io as imio\n",
    "import matplotlib.pyplot as plt\n",
    "import cv2\n",
    "import numpy as np\n",
    "import pandas as pd\n",
    "import random\n",
    "import matplotlib.pyplot as plt\n",
    "import itertools\n",
    "from tqdm import tqdm\n",
    "\n",
    "from imgaug import augmenters as iaa\n",
    "from sklearn.model_selection import StratifiedKFold, KFold\n",
    "import pylab\n",
    "#from pathlib import Path\n",
    "\n",
    "import lmdb\n",
    "import sqlite3\n",
    "import pandas as pd\n",
    "from PIL import Image\n",
    "from IPython.display import display\n",
    "\n",
    "\n",
    "# Root directory of the project\n",
    "LIB_ROOT_DIR = os.path.abspath(\"/root/product_image_segmentation/mask_rcnn_lib\")\n",
    "# Import Mask RCNN\n",
    "sys.path.append(LIB_ROOT_DIR)  # To find local version of the library\n",
    "from mrcnn.config import Config\n",
    "from mrcnn import model as modellib, utils\n",
    "\n",
    "\n",
    "from mrcnn.config import Config\n",
    "from mrcnn import utils\n",
    "import mrcnn.model as modellib\n",
    "from mrcnn import visualize\n",
    "from mrcnn.model import log\n",
    "from tensorflow.contrib.tensorboard.plugins import projector\n",
    "\n",
    "\n",
    "# Directory to save logs and model checkpoints, if not provided\n",
    "# through the command line argument --logs\n",
    "DEFAULT_LOGS_DIR = os.path.join(LIB_ROOT_DIR, \"../logs\")\n",
    "\n",
    "############################################################\n",
    "#  Configurations\n",
    "############################################################\n",
    "#Photo data in LMDB\n",
    "\n",
    "class PhotoData(object):\n",
    "    def __init__(self, path):\n",
    "        self.env = lmdb.open(\n",
    "            path, map_size=2**36, readonly=True, lock=False\n",
    "        )\n",
    "        \n",
    "    def __iter__(self):\n",
    "        with self.env.begin() as t:\n",
    "            with t.cursor() as c:\n",
    "                for key, value in c:\n",
    "                    yield key, value\n",
    "        \n",
    "    def __getitem__(self, index):\n",
    "        key = str(index).encode('ascii')\n",
    "        with self.env.begin() as t:\n",
    "            data = t.get(key) # binary image data\n",
    "        if not data:\n",
    "            return None\n",
    "        \n",
    "        with io.BytesIO(data) as f:\n",
    "                image = Image.open(f).convert(\"RGB\")\n",
    "                image.load()\n",
    "        return np.array(image)\n",
    "        \n",
    "        #return np.fromstring(data, dtype=np.uint8)\n",
    "        #return np.frombuffer(data, dtype=np.uint8)\n",
    "    \n",
    "        #with io.BytesIO(data) as f:\n",
    "        #    return np.frombuffer(f, dtype=np.uint8)\n",
    "        \n",
    "        #return skimage.io.imread(data)\n",
    "        \n",
    "        #with io.BytesIO(data) as f:\n",
    "        #    image = Image.open(f)\n",
    "        #    image.load()\n",
    "        #    return image\n",
    "        \n",
    "    def __len__(self):\n",
    "        return self.env.stat()['entries']\n",
    "    \n",
    "    \n",
    "\n",
    "class ModaNetConfig(Config):\n",
    "    def __init__(self, class_num=NUM_CATS, config_name=JOB_NAME):\n",
    "        self.NUM_CLASSES = class_num + 1 # +1 for the background class\n",
    "        self.NAME = config_name\n",
    "        super().__init__()\n",
    "        \n",
    "    BACKBONE = MODEL_TYPE\n",
    "\n",
    "    GPU_COUNT = GPU_NUM\n",
    "    IMAGES_PER_GPU = IMAGES_PER_GPU_PER_IT \n",
    "\n",
    "    \n",
    "    IMAGE_MIN_DIM = IMAGE_SIZE\n",
    "    IMAGE_MAX_DIM = IMAGE_SIZE    \n",
    "\n",
    "    RPN_ANCHOR_SCALES = (16, 32, 64, 128, 256)\n",
    "    \n",
    "    STEPS_PER_EPOCH = STEPS_PER_EPOCH_NUM\n",
    "\n",
    "    # Skip detections with < 90% confidence\n",
    "    #DETECTION_MIN_CONFIDENCE = 0.9\n",
    "    \n",
    "\n",
    "\n",
    "############################################################\n",
    "#  Dataset\n",
    "############################################################\n",
    "\n",
    "class ModaNetDataset(utils.Dataset):\n",
    "\n",
    "    \"\"\"\n",
    "    def __init__(self, photo_meta_db, annotation_file = MODANET_ANNO, \n",
    "                 image_dataset = PAPERDOLL_IMG_DB, \n",
    "                 website = PAPERDOLL_IMG_SITE):\n",
    "        \n",
    "        super().__init__(self)\n",
    "        \n",
    "        # initialize COCO api for instance annotations\n",
    "        self.coco = COCO(annotation_file)\n",
    "        cats = self.coco.loadCats(self.coco.getCatIds())\n",
    "        self.label_names = [cat['name'] for cat in cats]\n",
    "        self.catIds = self.coco.getCatIds(catNms=self.label_names)\n",
    "    \"\"\"\n",
    "    def __init__(self, photo_meta_db, coco, label_names, cat_ids,\n",
    "                     image_dataset = PAPERDOLL_IMG_DB, \n",
    "                     website = PAPERDOLL_IMG_SITE):\n",
    "        \n",
    "        super().__init__(self)\n",
    "        self.coco = coco\n",
    "        self.label_names = label_names\n",
    "        self.catIds = cat_ids\n",
    "        #access_str = \"file:\" + sqlite_db + \"?mode=ro\"\n",
    "        #meta_db = sqlite3.connect(access_str, uri=True)\n",
    "        #self.photo_meta_db = pd.read_sql(\"\"\"\n",
    "        #    SELECT\n",
    "        #        *\n",
    "        #    FROM photos\n",
    "        #    WHERE photos.post_id IS NOT NULL AND file_file_size IS NOT NULL\n",
    "        #\"\"\", con=meta_db)\n",
    "        \n",
    "        self.photo_meta_db = photo_meta_db\n",
    "\n",
    "        \n",
    "        self.photo_data_set = PhotoData(image_dataset)\n",
    "        \n",
    "        super(self.__class__, self).load_lmdb(self.photo_data_set)\n",
    "        print(\" ######### check list ######### \")\n",
    "        print(\" photo_meta_db size : \", len(self.photo_meta_db))\n",
    "        print(\" label_names : \", len(self.label_names))\n",
    "        print(\" catIds : \", len(self.catIds))\n",
    "        print(\" photo_meta_db size : \", len(self.photo_meta_db))\n",
    "        print(\" ############################## \")\n",
    "              \n",
    "    def load_all_dataset(self):\n",
    "        # Add classes\n",
    "        for i, name in enumerate(self.label_names):\n",
    "            self.add_class(\"fashion\", i+1, name)\n",
    "            \n",
    "        # Add images and annotations\n",
    "        for i, row in self.photo_meta_db.iterrows():\n",
    "            \n",
    "            annIds = self.coco.getAnnIds(imgIds=row['id'], catIds=self.catIds, iscrowd=None)\n",
    "            anns = self.coco.loadAnns(annIds)\n",
    "            catids, polygons = [], []\n",
    "            for one in anns:\n",
    "                catids.append(one['category_id'])\n",
    "                polygons.extend(one['segmentation'])\n",
    "            \n",
    "            if len(polygons) == 0:\n",
    "                continue\n",
    "                \n",
    "            self.add_image(\"fashion\", \n",
    "                           image_id = row['id'], \n",
    "                           #path = row['path'].values[0], \n",
    "                           path = row['path'], \n",
    "                           labels = catids,\n",
    "                           polygons=polygons,\n",
    "                           #annotations = polygons, \n",
    "                           #height=row['Height'].values[0], width=row['Width'].values[0])\n",
    "                           height=row['height'], width=row['width'])\n",
    "        print(\"load_all_dataset done, data size: \" , self.get_stat())\n",
    "\n",
    "    def load_mask(self, image_id):\n",
    "        \"\"\"Generate instance masks for an image.\n",
    "       Returns:\n",
    "        masks: A bool array of shape [height, width, instance count] with\n",
    "            one mask per instance.\n",
    "        class_ids: a 1D array of class IDs of the instance masks.\n",
    "        \"\"\"\n",
    "        # If not a balloon dataset image, delegate to parent class.\n",
    "        image_info = self.image_info[image_id]\n",
    "        \n",
    "        # Convert polygons to a bitmap mask of shape\n",
    "        # [height, width, instance_count]\n",
    "        info = self.image_info[image_id]\n",
    "        mask = np.zeros([info[\"height\"], info[\"width\"], len(info[\"polygons\"])],\n",
    "                        dtype=np.uint8)\n",
    "        for i, p in enumerate(info[\"polygons\"]):\n",
    "            # Get indexes of pixels inside the polygon and set them to 1\n",
    "            all_points_x = []\n",
    "            all_points_y = []\n",
    "            idx = 0\n",
    "            while idx < len(p):\n",
    "                #all_points_x.append(p[0][idx])\n",
    "                #all_points_y.append(p[0][idx+1])                \n",
    "                all_points_x.append(p[idx])\n",
    "                all_points_y.append(p[idx+1])\n",
    "                idx += 2\n",
    "                \n",
    "            rr, cc = skimage.draw.polygon(all_points_y, all_points_x)\n",
    "            mask[rr, cc, i] = 1\n",
    "\n",
    "        # Return mask, and array of class IDs of each instance. Since we have\n",
    "        # one class ID only, we return an array of 1s\n",
    "        return mask.astype(np.bool), np.ones([mask.shape[-1]], dtype=np.int32)\n",
    "\n",
    "    def image_reference(self, image_id):\n",
    "        \"\"\"Return the path of the image.\"\"\"\n",
    "        img_path = self.photo_meta_db['path'][image_id]\n",
    "        if img_path.startswith(\"/\"):\n",
    "            return self.website + img_path\n",
    "        return self.website + \"/\" + img_path\n",
    "        #return self.photo_data_set[image_id]\n",
    "\n",
    "    def get_stat(self):\n",
    "        return super(self.__class__, self).get_image_list_size()\n",
    "    "
   ]
  },
  {
   "cell_type": "code",
   "execution_count": 38,
   "metadata": {},
   "outputs": [
    {
     "name": "stdout",
     "output_type": "stream",
     "text": [
      "\n",
      "Configurations:\n",
      "BACKBONE                       resnet50\n",
      "BACKBONE_STRIDES               [4, 8, 16, 32, 64]\n",
      "BATCH_SIZE                     4\n",
      "BBOX_STD_DEV                   [0.1 0.1 0.2 0.2]\n",
      "COMPUTE_BACKBONE_SHAPE         None\n",
      "DETECTION_MAX_INSTANCES        100\n",
      "DETECTION_MIN_CONFIDENCE       0.7\n",
      "DETECTION_NMS_THRESHOLD        0.3\n",
      "FPN_CLASSIF_FC_LAYERS_SIZE     1024\n",
      "GPU_COUNT                      1\n",
      "GRADIENT_CLIP_NORM             5.0\n",
      "IMAGES_PER_GPU                 4\n",
      "IMAGE_CHANNEL_COUNT            3\n",
      "IMAGE_MAX_DIM                  512\n",
      "IMAGE_META_SIZE                26\n",
      "IMAGE_MIN_DIM                  512\n",
      "IMAGE_MIN_SCALE                0\n",
      "IMAGE_RESIZE_MODE              square\n",
      "IMAGE_SHAPE                    [512 512   3]\n",
      "LEARNING_MOMENTUM              0.9\n",
      "LEARNING_RATE                  0.001\n",
      "LOSS_WEIGHTS                   {'rpn_class_loss': 1.0, 'rpn_bbox_loss': 1.0, 'mrcnn_class_loss': 1.0, 'mrcnn_bbox_loss': 1.0, 'mrcnn_mask_loss': 1.0}\n",
      "MASK_POOL_SIZE                 14\n",
      "MASK_SHAPE                     [28, 28]\n",
      "MAX_GT_INSTANCES               100\n",
      "MEAN_PIXEL                     [123.7 116.8 103.9]\n",
      "MINI_MASK_SHAPE                (56, 56)\n",
      "NAME                           MODANET\n",
      "NUM_CLASSES                    14\n",
      "POOL_SIZE                      7\n",
      "POST_NMS_ROIS_INFERENCE        1000\n",
      "POST_NMS_ROIS_TRAINING         2000\n",
      "PRE_NMS_LIMIT                  6000\n",
      "ROI_POSITIVE_RATIO             0.33\n",
      "RPN_ANCHOR_RATIOS              [0.5, 1, 2]\n",
      "RPN_ANCHOR_SCALES              (16, 32, 64, 128, 256)\n",
      "RPN_ANCHOR_STRIDE              1\n",
      "RPN_BBOX_STD_DEV               [0.1 0.1 0.2 0.2]\n",
      "RPN_NMS_THRESHOLD              0.7\n",
      "RPN_TRAIN_ANCHORS_PER_IMAGE    256\n",
      "STEPS_PER_EPOCH                1000\n",
      "TOP_DOWN_PYRAMID_SIZE          256\n",
      "TRAIN_BN                       False\n",
      "TRAIN_ROIS_PER_IMAGE           200\n",
      "USE_MINI_MASK                  True\n",
      "USE_RPN_ROIS                   True\n",
      "VALIDATION_STEPS               50\n",
      "WEIGHT_DECAY                   0.0001\n",
      "\n",
      "\n"
     ]
    }
   ],
   "source": [
    "config = ModaNetConfig()\n",
    "config.display()\n",
    "\n",
    "access_str = \"file:\" + PAPERDOLL_META_DB + \"?mode=ro\"\n",
    "meta_db = sqlite3.connect(access_str, uri=True)\n",
    "photo_meta_db = pd.read_sql(\"\"\"\n",
    "            SELECT\n",
    "                *\n",
    "            FROM photos\n",
    "            WHERE photos.post_id IS NOT NULL AND file_file_size IS NOT NULL\n",
    "        \"\"\", con=meta_db)\n",
    "\n"
   ]
  },
  {
   "cell_type": "code",
   "execution_count": 39,
   "metadata": {},
   "outputs": [
    {
     "name": "stdout",
     "output_type": "stream",
     "text": [
      "loading annotations into memory...\n",
      "Done (t=2.70s)\n",
      "creating index...\n",
      "index created!\n",
      "[1, 2, 3, 4, 5, 6, 7, 8, 9, 10, 11, 12, 13]\n",
      "[{'supercategory': 'fashion', 'id': 1, 'name': 'bag'}, {'supercategory': 'fashion', 'id': 2, 'name': 'belt'}, {'supercategory': 'fashion', 'id': 3, 'name': 'boots'}, {'supercategory': 'fashion', 'id': 4, 'name': 'footwear'}, {'supercategory': 'fashion', 'id': 5, 'name': 'outer'}, {'supercategory': 'fashion', 'id': 6, 'name': 'dress'}, {'supercategory': 'fashion', 'id': 7, 'name': 'sunglasses'}, {'supercategory': 'fashion', 'id': 8, 'name': 'pants'}, {'supercategory': 'fashion', 'id': 9, 'name': 'top'}, {'supercategory': 'fashion', 'id': 10, 'name': 'shorts'}, {'supercategory': 'fashion', 'id': 11, 'name': 'skirt'}, {'supercategory': 'fashion', 'id': 12, 'name': 'headwear'}, {'supercategory': 'fashion', 'id': 13, 'name': 'scarf/tie'}]\n",
      "['bag', 'belt', 'boots', 'footwear', 'outer', 'dress', 'sunglasses', 'pants', 'top', 'shorts', 'skirt', 'headwear', 'scarf/tie']\n",
      "[1, 2, 3, 4, 5, 6, 7, 8, 9, 10, 11, 12, 13]\n",
      "total annotation number:  211828\n"
     ]
    }
   ],
   "source": [
    "coco = COCO(MODANET_ANNO)\n",
    "print(coco.getCatIds())\n",
    "#id_set = coco.getImgIds(catIds=coco.getCatIds())\n",
    "cats = coco.loadCats(coco.getCatIds())\n",
    "print(cats)\n",
    "label_names = [cat['name'] for cat in cats]\n",
    "print(label_names)\n",
    "cat_ids = coco.getCatIds(catNms = label_names)\n",
    "print(cat_ids)\n",
    "\n",
    "img_id_set = []\n",
    "for i in range(len(cat_ids)):\n",
    "    img_id_set.extend(coco.getImgIds(catIds=[i]))\n",
    "print(\"total annotation number: \", len(img_id_set))\n"
   ]
  },
  {
   "cell_type": "code",
   "execution_count": 40,
   "metadata": {
    "scrolled": false
   },
   "outputs": [
    {
     "name": "stdout",
     "output_type": "stream",
     "text": [
      "photo_meta_db size:  211828\n"
     ]
    }
   ],
   "source": [
    "# drop  images with  no annotation\n",
    "img_id_pd = pd.DataFrame({'id':img_id_set})\n",
    "img_id_pd['id'] =img_id_pd['id'].apply(int)\n",
    "photo_meta_db = pd.merge(photo_meta_db, img_id_pd, how='inner', on=['id'])\n",
    "print(\"photo_meta_db size: \", len(photo_meta_db))"
   ]
  },
  {
   "cell_type": "code",
   "execution_count": 41,
   "metadata": {},
   "outputs": [
    {
     "name": "stdout",
     "output_type": "stream",
     "text": [
      "category distribution: \n",
      "1 20570\n",
      "2 14295\n",
      "3 7084\n",
      "4 39222\n",
      "5 23691\n",
      "6 14426\n",
      "7 8792\n",
      "8 23015\n",
      "9 34681\n",
      "10 7031\n",
      "11 13575\n",
      "12 5446\n",
      "13 5020\n"
     ]
    }
   ],
   "source": [
    "print(\"category distribution: \")\n",
    "for i in cat_ids:\n",
    "    print(i, len(coco.getImgIds(catIds=[i])))"
   ]
  },
  {
   "cell_type": "code",
   "execution_count": 42,
   "metadata": {},
   "outputs": [
    {
     "name": "stdout",
     "output_type": "stream",
     "text": [
      "train set size:  169463\n",
      "valid set size:  42365\n",
      " ######### check list ######### \n",
      " photo_meta_db size :  169463\n",
      " label_names :  13\n",
      " catIds :  13\n",
      " photo_meta_db size :  169463\n",
      " ############################## \n",
      "load_all_dataset done, data size:  169463\n",
      " ######### check list ######### \n",
      " photo_meta_db size :  42365\n",
      " label_names :  13\n",
      " catIds :  13\n",
      " photo_meta_db size :  42365\n",
      " ############################## \n",
      "load_all_dataset done, data size:  42365\n",
      "169463\n",
      "42365\n"
     ]
    }
   ],
   "source": [
    "\n",
    "kf = KFold(n_splits=N_FOLDS, shuffle=True)\n",
    "splits = kf.split(photo_meta_db) \n",
    "\n",
    "def get_fold(splits, train_df, idx):    \n",
    "    for i, (train_index, valid_index) in enumerate(splits):\n",
    "        if i == idx:\n",
    "            return train_df.iloc[train_index], train_df.iloc[valid_index]\n",
    "        \n",
    "train_df, valid_df = get_fold(splits, photo_meta_db, SELECT_FOLD_IDX)\n",
    "\n",
    "print(\"train set size: \" , len(train_df))\n",
    "print(\"valid set size: \" , len(valid_df))\n",
    "\n",
    "train_dataset = ModaNetDataset(train_df, coco, label_names, cat_ids)\n",
    "train_dataset.load_all_dataset()\n",
    "train_dataset.prepare()\n",
    "\n",
    "\n",
    "valid_dataset = ModaNetDataset(valid_df, coco, label_names, cat_ids)\n",
    "valid_dataset.load_all_dataset()\n",
    "valid_dataset.prepare()\n",
    "\n",
    "print(train_dataset.get_stat())\n",
    "print(valid_dataset.get_stat())"
   ]
  },
  {
   "cell_type": "code",
   "execution_count": null,
   "metadata": {
    "scrolled": false
   },
   "outputs": [
    {
     "name": "stdout",
     "output_type": "stream",
     "text": [
      "\n",
      "Starting at epoch 0. LR=0.0001\n",
      "\n",
      "Checkpoint Path: /root/product_image_segmentation/weight_files/logs/modanet20190718T0807/mask_rcnn_modanet_{epoch:04d}.h5\n",
      "Selecting layers to train\n",
      "conv1                  (Conv2D)\n",
      "bn_conv1               (BatchNorm)\n",
      "res2a_branch2a         (Conv2D)\n",
      "bn2a_branch2a          (BatchNorm)\n",
      "res2a_branch2b         (Conv2D)\n",
      "bn2a_branch2b          (BatchNorm)\n",
      "res2a_branch2c         (Conv2D)\n",
      "res2a_branch1          (Conv2D)\n",
      "bn2a_branch2c          (BatchNorm)\n",
      "bn2a_branch1           (BatchNorm)\n",
      "res2b_branch2a         (Conv2D)\n",
      "bn2b_branch2a          (BatchNorm)\n",
      "res2b_branch2b         (Conv2D)\n",
      "bn2b_branch2b          (BatchNorm)\n",
      "res2b_branch2c         (Conv2D)\n",
      "bn2b_branch2c          (BatchNorm)\n",
      "res2c_branch2a         (Conv2D)\n",
      "bn2c_branch2a          (BatchNorm)\n",
      "res2c_branch2b         (Conv2D)\n",
      "bn2c_branch2b          (BatchNorm)\n",
      "res2c_branch2c         (Conv2D)\n",
      "bn2c_branch2c          (BatchNorm)\n",
      "res3a_branch2a         (Conv2D)\n",
      "bn3a_branch2a          (BatchNorm)\n",
      "res3a_branch2b         (Conv2D)\n",
      "bn3a_branch2b          (BatchNorm)\n",
      "res3a_branch2c         (Conv2D)\n",
      "res3a_branch1          (Conv2D)\n",
      "bn3a_branch2c          (BatchNorm)\n",
      "bn3a_branch1           (BatchNorm)\n",
      "res3b_branch2a         (Conv2D)\n",
      "bn3b_branch2a          (BatchNorm)\n",
      "res3b_branch2b         (Conv2D)\n",
      "bn3b_branch2b          (BatchNorm)\n",
      "res3b_branch2c         (Conv2D)\n",
      "bn3b_branch2c          (BatchNorm)\n",
      "res3c_branch2a         (Conv2D)\n",
      "bn3c_branch2a          (BatchNorm)\n",
      "res3c_branch2b         (Conv2D)\n",
      "bn3c_branch2b          (BatchNorm)\n",
      "res3c_branch2c         (Conv2D)\n",
      "bn3c_branch2c          (BatchNorm)\n",
      "res3d_branch2a         (Conv2D)\n",
      "bn3d_branch2a          (BatchNorm)\n",
      "res3d_branch2b         (Conv2D)\n",
      "bn3d_branch2b          (BatchNorm)\n",
      "res3d_branch2c         (Conv2D)\n",
      "bn3d_branch2c          (BatchNorm)\n",
      "res4a_branch2a         (Conv2D)\n",
      "bn4a_branch2a          (BatchNorm)\n",
      "res4a_branch2b         (Conv2D)\n",
      "bn4a_branch2b          (BatchNorm)\n",
      "res4a_branch2c         (Conv2D)\n",
      "res4a_branch1          (Conv2D)\n",
      "bn4a_branch2c          (BatchNorm)\n",
      "bn4a_branch1           (BatchNorm)\n",
      "res4b_branch2a         (Conv2D)\n",
      "bn4b_branch2a          (BatchNorm)\n",
      "res4b_branch2b         (Conv2D)\n",
      "bn4b_branch2b          (BatchNorm)\n",
      "res4b_branch2c         (Conv2D)\n",
      "bn4b_branch2c          (BatchNorm)\n",
      "res4c_branch2a         (Conv2D)\n",
      "bn4c_branch2a          (BatchNorm)\n",
      "res4c_branch2b         (Conv2D)\n",
      "bn4c_branch2b          (BatchNorm)\n",
      "res4c_branch2c         (Conv2D)\n",
      "bn4c_branch2c          (BatchNorm)\n",
      "res4d_branch2a         (Conv2D)\n",
      "bn4d_branch2a          (BatchNorm)\n",
      "res4d_branch2b         (Conv2D)\n",
      "bn4d_branch2b          (BatchNorm)\n",
      "res4d_branch2c         (Conv2D)\n",
      "bn4d_branch2c          (BatchNorm)\n",
      "res4e_branch2a         (Conv2D)\n",
      "bn4e_branch2a          (BatchNorm)\n",
      "res4e_branch2b         (Conv2D)\n",
      "bn4e_branch2b          (BatchNorm)\n",
      "res4e_branch2c         (Conv2D)\n",
      "bn4e_branch2c          (BatchNorm)\n",
      "res4f_branch2a         (Conv2D)\n",
      "bn4f_branch2a          (BatchNorm)\n",
      "res4f_branch2b         (Conv2D)\n",
      "bn4f_branch2b          (BatchNorm)\n",
      "res4f_branch2c         (Conv2D)\n",
      "bn4f_branch2c          (BatchNorm)\n",
      "res5a_branch2a         (Conv2D)\n",
      "bn5a_branch2a          (BatchNorm)\n",
      "res5a_branch2b         (Conv2D)\n",
      "bn5a_branch2b          (BatchNorm)\n",
      "res5a_branch2c         (Conv2D)\n",
      "res5a_branch1          (Conv2D)\n",
      "bn5a_branch2c          (BatchNorm)\n",
      "bn5a_branch1           (BatchNorm)\n",
      "res5b_branch2a         (Conv2D)\n",
      "bn5b_branch2a          (BatchNorm)\n",
      "res5b_branch2b         (Conv2D)\n",
      "bn5b_branch2b          (BatchNorm)\n",
      "res5b_branch2c         (Conv2D)\n",
      "bn5b_branch2c          (BatchNorm)\n",
      "res5c_branch2a         (Conv2D)\n",
      "bn5c_branch2a          (BatchNorm)\n",
      "res5c_branch2b         (Conv2D)\n",
      "bn5c_branch2b          (BatchNorm)\n",
      "res5c_branch2c         (Conv2D)\n",
      "bn5c_branch2c          (BatchNorm)\n",
      "fpn_c5p5               (Conv2D)\n",
      "fpn_c4p4               (Conv2D)\n",
      "fpn_c3p3               (Conv2D)\n",
      "fpn_c2p2               (Conv2D)\n",
      "fpn_p5                 (Conv2D)\n",
      "fpn_p2                 (Conv2D)\n",
      "fpn_p3                 (Conv2D)\n",
      "fpn_p4                 (Conv2D)\n",
      "In model:  rpn_model\n",
      "    rpn_conv_shared        (Conv2D)\n",
      "    rpn_class_raw          (Conv2D)\n",
      "    rpn_bbox_pred          (Conv2D)\n",
      "mrcnn_mask_conv1       (TimeDistributed)\n",
      "mrcnn_mask_bn1         (TimeDistributed)\n",
      "mrcnn_mask_conv2       (TimeDistributed)\n",
      "mrcnn_mask_bn2         (TimeDistributed)\n",
      "mrcnn_class_conv1      (TimeDistributed)\n",
      "mrcnn_class_bn1        (TimeDistributed)\n",
      "mrcnn_mask_conv3       (TimeDistributed)\n",
      "mrcnn_mask_bn3         (TimeDistributed)\n",
      "mrcnn_class_conv2      (TimeDistributed)\n",
      "mrcnn_class_bn2        (TimeDistributed)\n",
      "mrcnn_mask_conv4       (TimeDistributed)\n",
      "mrcnn_mask_bn4         (TimeDistributed)\n",
      "mrcnn_bbox_fc          (TimeDistributed)\n",
      "mrcnn_mask_deconv      (TimeDistributed)\n",
      "mrcnn_class_logits     (TimeDistributed)\n",
      "mrcnn_mask             (TimeDistributed)\n"
     ]
    },
    {
     "name": "stderr",
     "output_type": "stream",
     "text": [
      "/usr/local/lib/python3.6/dist-packages/tensorflow/python/ops/gradients_util.py:93: UserWarning: Converting sparse IndexedSlices to a dense Tensor of unknown shape. This may consume a large amount of memory.\n",
      "  \"Converting sparse IndexedSlices to a dense Tensor of unknown shape. \"\n",
      "/usr/local/lib/python3.6/dist-packages/tensorflow/python/ops/gradients_util.py:93: UserWarning: Converting sparse IndexedSlices to a dense Tensor of unknown shape. This may consume a large amount of memory.\n",
      "  \"Converting sparse IndexedSlices to a dense Tensor of unknown shape. \"\n",
      "/usr/local/lib/python3.6/dist-packages/tensorflow/python/ops/gradients_util.py:93: UserWarning: Converting sparse IndexedSlices to a dense Tensor of unknown shape. This may consume a large amount of memory.\n",
      "  \"Converting sparse IndexedSlices to a dense Tensor of unknown shape. \"\n",
      "/usr/local/lib/python3.6/dist-packages/keras/engine/training_generator.py:47: UserWarning: Using a generator with `use_multiprocessing=True` and multiple workers may duplicate your data. Please consider using the`keras.utils.Sequence class.\n",
      "  UserWarning('Using a generator with `use_multiprocessing=True`'\n"
     ]
    },
    {
     "name": "stdout",
     "output_type": "stream",
     "text": [
      "Epoch 1/2\n",
      "  83/1000 [=>............................] - ETA: 55:42 - loss: 3.9194 - rpn_class_loss: 0.2341 - rpn_bbox_loss: 1.1481 - mrcnn_class_loss: 0.5051 - mrcnn_bbox_loss: 0.8592 - mrcnn_mask_loss: 1.1727"
     ]
    },
    {
     "name": "stderr",
     "output_type": "stream",
     "text": [
      "E0718 08:12:56.390592 139806809503488 model.py:1810] Error processing image {'id': 387355, 'source': 'fashion', 'path': '/photos/iamdenie/1689020736/9476125504/9476125504_400.jpg', 'labels': [2, 10, 9, 5, 4, 4], 'polygons': [[192, 186, 206, 193, 210, 193, 217, 195, 221, 197, 236, 200, 235, 205, 233, 207, 227, 210, 216, 205, 215, 207, 207, 207, 202, 199, 187, 192], [225, 216, 221, 224, 217, 230, 218, 233, 221, 234, 222, 237, 227, 239, 229, 239, 239, 241, 235, 247, 219, 241, 204, 241, 198, 241, 186, 239, 186, 232, 185, 227, 181, 224, 178, 208, 187, 209, 202, 214], [226, 216, 201, 213, 179, 207, 185, 200, 190, 194, 202, 200, 204, 205, 213, 207, 215, 206, 229, 211], [235, 200, 209, 193, 202, 191, 191, 186, 192, 162, 198, 154, 199, 147, 194, 128, 193, 124, 199, 129, 208, 131, 216, 131, 220, 131, 225, 126, 224, 111, 232, 130, 225, 155, 234, 169, 229, 184, 233, 190], [219, 100, 246, 109, 252, 137, 251, 147, 251, 155, 252, 160, 248, 158, 242, 159, 239, 168, 237, 204, 233, 196, 232, 190, 227, 184, 229, 177, 234, 171, 226, 159, 226, 151, 232, 129], [190, 119, 200, 150, 193, 159, 193, 170, 190, 198, 178, 211, 180, 158, 172, 156, 168, 156, 162, 161, 162, 124, 163, 111, 169, 107, 175, 107, 175, 114, 180, 127, 179, 132, 183, 132, 186, 129], [168, 204, 167, 212, 164, 211], [227, 363, 238, 377, 240, 385, 238, 391, 233, 392, 220, 387, 223, 384, 231, 383, 234, 380, 237, 378], [198, 386, 198, 391, 193, 394, 177, 391, 175, 385, 175, 375, 178, 385]], 'height': 600, 'width': 400}\n",
      "Traceback (most recent call last):\n",
      "  File \"/root/product_image_segmentation/mask_rcnn_lib/mrcnn/model.py\", line 1709, in data_generator\n",
      "    use_mini_mask=config.USE_MINI_MASK)\n",
      "  File \"/root/product_image_segmentation/mask_rcnn_lib/mrcnn/model.py\", line 1211, in load_image_gt\n",
      "    image = dataset.load_image(image_id)\n",
      "  File \"/root/product_image_segmentation/mask_rcnn_lib/mrcnn/utils.py\", line 372, in load_image\n",
      "    if image.ndim != 3:\n",
      "AttributeError: 'NoneType' object has no attribute 'ndim'\n"
     ]
    },
    {
     "name": "stdout",
     "output_type": "stream",
     "text": [
      "\b\b\b\b\b\b\b\b\b\b\b\b\b\b\b\b\b\b\b\b\b\b\b\b\b\b\b\b\b\b\b\b\b\b\b\b\b\b\b\b\b\b\b\b\b\b\b\b\b\b\b\b\b\b\b\b\b\b\b\b\b\b\b\b\b\b\b\b\b\b\b\b\b\b\b\b\b\b\b\b\b\b\b\b\b\b\b\b\b\b\b\b\b\b\b\b\b\b\b\b\b\b\b\b\b\b\b\b\b\b\b\b\b\b\b\b\b\b\b\b\b\b\b\b\b\b\b\b\b\b\b\b\b\b\b\b\b\b\b\b\b\b\b\b\b\b\b\b\b\b\b\b\b\b\b\b\b\b\b\b\b\b\b\b\b\b\b\b\b\b\b\b\b\b\b\b\b\b\b\b\b\b\b\b\b\b\b\b\b\b\b\b\b\b\b\b\b\b\r",
      "  84/1000 [=>............................] - ETA: 55:28 - loss: 3.9110 - rpn_class_loss: 0.2355 - rpn_bbox_loss: 1.1518 - mrcnn_class_loss: 0.4998 - mrcnn_bbox_loss: 0.8569 - mrcnn_mask_loss: 1.1669"
     ]
    },
    {
     "name": "stderr",
     "output_type": "stream",
     "text": [
      "E0718 08:12:59.028363 139806809503488 model.py:1810] Error processing image {'id': 387355, 'source': 'fashion', 'path': '/photos/iamdenie/1689020736/9476125504/9476125504_400.jpg', 'labels': [2, 10, 9, 5, 4, 4], 'polygons': [[192, 186, 206, 193, 210, 193, 217, 195, 221, 197, 236, 200, 235, 205, 233, 207, 227, 210, 216, 205, 215, 207, 207, 207, 202, 199, 187, 192], [225, 216, 221, 224, 217, 230, 218, 233, 221, 234, 222, 237, 227, 239, 229, 239, 239, 241, 235, 247, 219, 241, 204, 241, 198, 241, 186, 239, 186, 232, 185, 227, 181, 224, 178, 208, 187, 209, 202, 214], [226, 216, 201, 213, 179, 207, 185, 200, 190, 194, 202, 200, 204, 205, 213, 207, 215, 206, 229, 211], [235, 200, 209, 193, 202, 191, 191, 186, 192, 162, 198, 154, 199, 147, 194, 128, 193, 124, 199, 129, 208, 131, 216, 131, 220, 131, 225, 126, 224, 111, 232, 130, 225, 155, 234, 169, 229, 184, 233, 190], [219, 100, 246, 109, 252, 137, 251, 147, 251, 155, 252, 160, 248, 158, 242, 159, 239, 168, 237, 204, 233, 196, 232, 190, 227, 184, 229, 177, 234, 171, 226, 159, 226, 151, 232, 129], [190, 119, 200, 150, 193, 159, 193, 170, 190, 198, 178, 211, 180, 158, 172, 156, 168, 156, 162, 161, 162, 124, 163, 111, 169, 107, 175, 107, 175, 114, 180, 127, 179, 132, 183, 132, 186, 129], [168, 204, 167, 212, 164, 211], [227, 363, 238, 377, 240, 385, 238, 391, 233, 392, 220, 387, 223, 384, 231, 383, 234, 380, 237, 378], [198, 386, 198, 391, 193, 394, 177, 391, 175, 385, 175, 375, 178, 385]], 'height': 600, 'width': 400}\n",
      "Traceback (most recent call last):\n",
      "  File \"/root/product_image_segmentation/mask_rcnn_lib/mrcnn/model.py\", line 1709, in data_generator\n",
      "    use_mini_mask=config.USE_MINI_MASK)\n",
      "  File \"/root/product_image_segmentation/mask_rcnn_lib/mrcnn/model.py\", line 1211, in load_image_gt\n",
      "    image = dataset.load_image(image_id)\n",
      "  File \"/root/product_image_segmentation/mask_rcnn_lib/mrcnn/utils.py\", line 372, in load_image\n",
      "    if image.ndim != 3:\n",
      "AttributeError: 'NoneType' object has no attribute 'ndim'\n"
     ]
    },
    {
     "name": "stdout",
     "output_type": "stream",
     "text": [
      "\b\b\b\b\b\b\b\b\b\b\b\b\b\b\b\b\b\b\b\b\b\b\b\b\b\b\b\b\b\b\b\b\b\b\b\b\b\b\b\b\b\b\b\b\b\b\b\b\b\b\b\b\b\b\b\b\b\b\b\b\b\b\b\b\b\b\b\b\b\b\b\b\b\b\b\b\b\b\b\b\b\b\b\b\b\b\b\b\b\b\b\b\b\b\b\b\b\b\b\b\b\b\b\b\b\b\b\b\b\b\b\b\b\b\b\b\b\b\b\b\b\b\b\b\b\b\b\b\b\b\b\b\b\b\b\b\b\b\b\b\b\b\b\b\b\b\b\b\b\b\b\b\b\b\b\b\b\b\b\b\b\b\b\b\b\b\b\b\b\b\b\b\b\b\b\b\b\b\b\b\b\b\b\b\b\b\b\b\b\b\b\b\b\b\b\b\b\b\r",
      "  85/1000 [=>............................] - ETA: 55:14 - loss: 3.9027 - rpn_class_loss: 0.2368 - rpn_bbox_loss: 1.1551 - mrcnn_class_loss: 0.4947 - mrcnn_bbox_loss: 0.8548 - mrcnn_mask_loss: 1.1613"
     ]
    },
    {
     "name": "stderr",
     "output_type": "stream",
     "text": [
      "E0718 08:13:01.776565 139806809503488 model.py:1810] Error processing image {'id': 387355, 'source': 'fashion', 'path': '/photos/iamdenie/1689020736/9476125504/9476125504_400.jpg', 'labels': [2, 10, 9, 5, 4, 4], 'polygons': [[192, 186, 206, 193, 210, 193, 217, 195, 221, 197, 236, 200, 235, 205, 233, 207, 227, 210, 216, 205, 215, 207, 207, 207, 202, 199, 187, 192], [225, 216, 221, 224, 217, 230, 218, 233, 221, 234, 222, 237, 227, 239, 229, 239, 239, 241, 235, 247, 219, 241, 204, 241, 198, 241, 186, 239, 186, 232, 185, 227, 181, 224, 178, 208, 187, 209, 202, 214], [226, 216, 201, 213, 179, 207, 185, 200, 190, 194, 202, 200, 204, 205, 213, 207, 215, 206, 229, 211], [235, 200, 209, 193, 202, 191, 191, 186, 192, 162, 198, 154, 199, 147, 194, 128, 193, 124, 199, 129, 208, 131, 216, 131, 220, 131, 225, 126, 224, 111, 232, 130, 225, 155, 234, 169, 229, 184, 233, 190], [219, 100, 246, 109, 252, 137, 251, 147, 251, 155, 252, 160, 248, 158, 242, 159, 239, 168, 237, 204, 233, 196, 232, 190, 227, 184, 229, 177, 234, 171, 226, 159, 226, 151, 232, 129], [190, 119, 200, 150, 193, 159, 193, 170, 190, 198, 178, 211, 180, 158, 172, 156, 168, 156, 162, 161, 162, 124, 163, 111, 169, 107, 175, 107, 175, 114, 180, 127, 179, 132, 183, 132, 186, 129], [168, 204, 167, 212, 164, 211], [227, 363, 238, 377, 240, 385, 238, 391, 233, 392, 220, 387, 223, 384, 231, 383, 234, 380, 237, 378], [198, 386, 198, 391, 193, 394, 177, 391, 175, 385, 175, 375, 178, 385]], 'height': 600, 'width': 400}\n",
      "Traceback (most recent call last):\n",
      "  File \"/root/product_image_segmentation/mask_rcnn_lib/mrcnn/model.py\", line 1709, in data_generator\n",
      "    use_mini_mask=config.USE_MINI_MASK)\n",
      "  File \"/root/product_image_segmentation/mask_rcnn_lib/mrcnn/model.py\", line 1211, in load_image_gt\n",
      "    image = dataset.load_image(image_id)\n",
      "  File \"/root/product_image_segmentation/mask_rcnn_lib/mrcnn/utils.py\", line 372, in load_image\n",
      "    if image.ndim != 3:\n",
      "AttributeError: 'NoneType' object has no attribute 'ndim'\n"
     ]
    },
    {
     "name": "stdout",
     "output_type": "stream",
     "text": [
      "\b\b\b\b\b\b\b\b\b\b\b\b\b\b\b\b\b\b\b\b\b\b\b\b\b\b\b\b\b\b\b\b\b\b\b\b\b\b\b\b\b\b\b\b\b\b\b\b\b\b\b\b\b\b\b\b\b\b\b\b\b\b\b\b\b\b\b\b\b\b\b\b\b\b\b\b\b\b\b\b\b\b\b\b\b\b\b\b\b\b\b\b\b\b\b\b\b\b\b\b\b\b\b\b\b\b\b\b\b\b\b\b\b\b\b\b\b\b\b\b\b\b\b\b\b\b\b\b\b\b\b\b\b\b\b\b\b\b\b\b\b\b\b\b\b\b\b\b\b\b\b\b\b\b\b\b\b\b\b\b\b\b\b\b\b\b\b\b\b\b\b\b\b\b\b\b\b\b\b\b\b\b\b\b\b\b\b\b\b\b\b\b\b\b\b\b\b\b\r",
      "  86/1000 [=>............................] - ETA: 55:02 - loss: 3.8944 - rpn_class_loss: 0.2380 - rpn_bbox_loss: 1.1582 - mrcnn_class_loss: 0.4897 - mrcnn_bbox_loss: 0.8528 - mrcnn_mask_loss: 1.1557"
     ]
    },
    {
     "name": "stderr",
     "output_type": "stream",
     "text": [
      "E0718 08:13:04.556460 139806809503488 model.py:1810] Error processing image {'id': 387355, 'source': 'fashion', 'path': '/photos/iamdenie/1689020736/9476125504/9476125504_400.jpg', 'labels': [2, 10, 9, 5, 4, 4], 'polygons': [[192, 186, 206, 193, 210, 193, 217, 195, 221, 197, 236, 200, 235, 205, 233, 207, 227, 210, 216, 205, 215, 207, 207, 207, 202, 199, 187, 192], [225, 216, 221, 224, 217, 230, 218, 233, 221, 234, 222, 237, 227, 239, 229, 239, 239, 241, 235, 247, 219, 241, 204, 241, 198, 241, 186, 239, 186, 232, 185, 227, 181, 224, 178, 208, 187, 209, 202, 214], [226, 216, 201, 213, 179, 207, 185, 200, 190, 194, 202, 200, 204, 205, 213, 207, 215, 206, 229, 211], [235, 200, 209, 193, 202, 191, 191, 186, 192, 162, 198, 154, 199, 147, 194, 128, 193, 124, 199, 129, 208, 131, 216, 131, 220, 131, 225, 126, 224, 111, 232, 130, 225, 155, 234, 169, 229, 184, 233, 190], [219, 100, 246, 109, 252, 137, 251, 147, 251, 155, 252, 160, 248, 158, 242, 159, 239, 168, 237, 204, 233, 196, 232, 190, 227, 184, 229, 177, 234, 171, 226, 159, 226, 151, 232, 129], [190, 119, 200, 150, 193, 159, 193, 170, 190, 198, 178, 211, 180, 158, 172, 156, 168, 156, 162, 161, 162, 124, 163, 111, 169, 107, 175, 107, 175, 114, 180, 127, 179, 132, 183, 132, 186, 129], [168, 204, 167, 212, 164, 211], [227, 363, 238, 377, 240, 385, 238, 391, 233, 392, 220, 387, 223, 384, 231, 383, 234, 380, 237, 378], [198, 386, 198, 391, 193, 394, 177, 391, 175, 385, 175, 375, 178, 385]], 'height': 600, 'width': 400}\n",
      "Traceback (most recent call last):\n",
      "  File \"/root/product_image_segmentation/mask_rcnn_lib/mrcnn/model.py\", line 1709, in data_generator\n",
      "    use_mini_mask=config.USE_MINI_MASK)\n",
      "  File \"/root/product_image_segmentation/mask_rcnn_lib/mrcnn/model.py\", line 1211, in load_image_gt\n",
      "    image = dataset.load_image(image_id)\n",
      "  File \"/root/product_image_segmentation/mask_rcnn_lib/mrcnn/utils.py\", line 372, in load_image\n",
      "    if image.ndim != 3:\n",
      "AttributeError: 'NoneType' object has no attribute 'ndim'\n"
     ]
    },
    {
     "name": "stdout",
     "output_type": "stream",
     "text": [
      "\b\b\b\b\b\b\b\b\b\b\b\b\b\b\b\b\b\b\b\b\b\b\b\b\b\b\b\b\b\b\b\b\b\b\b\b\b\b\b\b\b\b\b\b\b\b\b\b\b\b\b\b\b\b\b\b\b\b\b\b\b\b\b\b\b\b\b\b\b\b\b\b\b\b\b\b\b\b\b\b\b\b\b\b\b\b\b\b\b\b\b\b\b\b\b\b\b\b\b\b\b\b\b\b\b\b\b\b\b\b\b\b\b\b\b\b\b\b\b\b\b\b\b\b\b\b\b\b\b\b\b\b\b\b\b\b\b\b\b\b\b\b\b\b\b\b\b\b\b\b\b\b\b\b\b\b\b\b\b\b\b\b\b\b\b\b\b\b\b\b\b\b\b\b\b\b\b\b\b\b\b\b\b\b\b\b\b\b\b\b\b\b\b\b\b\b\b\b\r",
      "  87/1000 [=>............................] - ETA: 54:48 - loss: 3.8859 - rpn_class_loss: 0.2391 - rpn_bbox_loss: 1.1609 - mrcnn_class_loss: 0.4848 - mrcnn_bbox_loss: 0.8507 - mrcnn_mask_loss: 1.1503"
     ]
    },
    {
     "name": "stderr",
     "output_type": "stream",
     "text": [
      "E0718 08:13:07.234764 139806809503488 model.py:1810] Error processing image {'id': 387355, 'source': 'fashion', 'path': '/photos/iamdenie/1689020736/9476125504/9476125504_400.jpg', 'labels': [2, 10, 9, 5, 4, 4], 'polygons': [[192, 186, 206, 193, 210, 193, 217, 195, 221, 197, 236, 200, 235, 205, 233, 207, 227, 210, 216, 205, 215, 207, 207, 207, 202, 199, 187, 192], [225, 216, 221, 224, 217, 230, 218, 233, 221, 234, 222, 237, 227, 239, 229, 239, 239, 241, 235, 247, 219, 241, 204, 241, 198, 241, 186, 239, 186, 232, 185, 227, 181, 224, 178, 208, 187, 209, 202, 214], [226, 216, 201, 213, 179, 207, 185, 200, 190, 194, 202, 200, 204, 205, 213, 207, 215, 206, 229, 211], [235, 200, 209, 193, 202, 191, 191, 186, 192, 162, 198, 154, 199, 147, 194, 128, 193, 124, 199, 129, 208, 131, 216, 131, 220, 131, 225, 126, 224, 111, 232, 130, 225, 155, 234, 169, 229, 184, 233, 190], [219, 100, 246, 109, 252, 137, 251, 147, 251, 155, 252, 160, 248, 158, 242, 159, 239, 168, 237, 204, 233, 196, 232, 190, 227, 184, 229, 177, 234, 171, 226, 159, 226, 151, 232, 129], [190, 119, 200, 150, 193, 159, 193, 170, 190, 198, 178, 211, 180, 158, 172, 156, 168, 156, 162, 161, 162, 124, 163, 111, 169, 107, 175, 107, 175, 114, 180, 127, 179, 132, 183, 132, 186, 129], [168, 204, 167, 212, 164, 211], [227, 363, 238, 377, 240, 385, 238, 391, 233, 392, 220, 387, 223, 384, 231, 383, 234, 380, 237, 378], [198, 386, 198, 391, 193, 394, 177, 391, 175, 385, 175, 375, 178, 385]], 'height': 600, 'width': 400}\n",
      "Traceback (most recent call last):\n",
      "  File \"/root/product_image_segmentation/mask_rcnn_lib/mrcnn/model.py\", line 1709, in data_generator\n",
      "    use_mini_mask=config.USE_MINI_MASK)\n",
      "  File \"/root/product_image_segmentation/mask_rcnn_lib/mrcnn/model.py\", line 1211, in load_image_gt\n",
      "    image = dataset.load_image(image_id)\n",
      "  File \"/root/product_image_segmentation/mask_rcnn_lib/mrcnn/utils.py\", line 372, in load_image\n",
      "    if image.ndim != 3:\n",
      "AttributeError: 'NoneType' object has no attribute 'ndim'\n"
     ]
    },
    {
     "name": "stdout",
     "output_type": "stream",
     "text": [
      "\b\b\b\b\b\b\b\b\b\b\b\b\b\b\b\b\b\b\b\b\b\b\b\b\b\b\b\b\b\b\b\b\b\b\b\b\b\b\b\b\b\b\b\b\b\b\b\b\b\b\b\b\b\b\b\b\b\b\b\b\b\b\b\b\b\b\b\b\b\b\b\b\b\b\b\b\b\b\b\b\b\b\b\b\b\b\b\b\b\b\b\b\b\b\b\b\b\b\b\b\b\b\b\b\b\b\b\b\b\b\b\b\b\b\b\b\b\b\b\b\b\b\b\b\b\b\b\b\b\b\b\b\b\b\b\b\b\b\b\b\b\b\b\b\b\b\b\b\b\b\b\b\b\b\b\b\b\b\b\b\b\b\b\b\b\b\b\b\b\b\b\b\b\b\b\b\b\b\b\b\b\b\b\b\b\b\b\b\b\b\b\b\b\b\b\b\b\b\r",
      "  88/1000 [=>............................] - ETA: 54:36 - loss: 3.8771 - rpn_class_loss: 0.2402 - rpn_bbox_loss: 1.1634 - mrcnn_class_loss: 0.4800 - mrcnn_bbox_loss: 0.8485 - mrcnn_mask_loss: 1.1450"
     ]
    },
    {
     "name": "stderr",
     "output_type": "stream",
     "text": [
      "E0718 08:13:09.929092 139806809503488 model.py:1810] Error processing image {'id': 387355, 'source': 'fashion', 'path': '/photos/iamdenie/1689020736/9476125504/9476125504_400.jpg', 'labels': [2, 10, 9, 5, 4, 4], 'polygons': [[192, 186, 206, 193, 210, 193, 217, 195, 221, 197, 236, 200, 235, 205, 233, 207, 227, 210, 216, 205, 215, 207, 207, 207, 202, 199, 187, 192], [225, 216, 221, 224, 217, 230, 218, 233, 221, 234, 222, 237, 227, 239, 229, 239, 239, 241, 235, 247, 219, 241, 204, 241, 198, 241, 186, 239, 186, 232, 185, 227, 181, 224, 178, 208, 187, 209, 202, 214], [226, 216, 201, 213, 179, 207, 185, 200, 190, 194, 202, 200, 204, 205, 213, 207, 215, 206, 229, 211], [235, 200, 209, 193, 202, 191, 191, 186, 192, 162, 198, 154, 199, 147, 194, 128, 193, 124, 199, 129, 208, 131, 216, 131, 220, 131, 225, 126, 224, 111, 232, 130, 225, 155, 234, 169, 229, 184, 233, 190], [219, 100, 246, 109, 252, 137, 251, 147, 251, 155, 252, 160, 248, 158, 242, 159, 239, 168, 237, 204, 233, 196, 232, 190, 227, 184, 229, 177, 234, 171, 226, 159, 226, 151, 232, 129], [190, 119, 200, 150, 193, 159, 193, 170, 190, 198, 178, 211, 180, 158, 172, 156, 168, 156, 162, 161, 162, 124, 163, 111, 169, 107, 175, 107, 175, 114, 180, 127, 179, 132, 183, 132, 186, 129], [168, 204, 167, 212, 164, 211], [227, 363, 238, 377, 240, 385, 238, 391, 233, 392, 220, 387, 223, 384, 231, 383, 234, 380, 237, 378], [198, 386, 198, 391, 193, 394, 177, 391, 175, 385, 175, 375, 178, 385]], 'height': 600, 'width': 400}\n",
      "Traceback (most recent call last):\n",
      "  File \"/root/product_image_segmentation/mask_rcnn_lib/mrcnn/model.py\", line 1709, in data_generator\n",
      "    use_mini_mask=config.USE_MINI_MASK)\n",
      "  File \"/root/product_image_segmentation/mask_rcnn_lib/mrcnn/model.py\", line 1211, in load_image_gt\n",
      "    image = dataset.load_image(image_id)\n",
      "  File \"/root/product_image_segmentation/mask_rcnn_lib/mrcnn/utils.py\", line 372, in load_image\n",
      "    if image.ndim != 3:\n",
      "AttributeError: 'NoneType' object has no attribute 'ndim'\n"
     ]
    },
    {
     "name": "stdout",
     "output_type": "stream",
     "text": [
      "\b\b\b\b\b\b\b\b\b\b\b\b\b\b\b\b\b\b\b\b\b\b\b\b\b\b\b\b\b\b\b\b\b\b\b\b\b\b\b\b\b\b\b\b\b\b\b\b\b\b\b\b\b\b\b\b\b\b\b\b\b\b\b\b\b\b\b\b\b\b\b\b\b\b\b\b\b\b\b\b\b\b\b\b\b\b\b\b\b\b\b\b\b\b\b\b\b\b\b\b\b\b\b\b\b\b\b\b\b\b\b\b\b\b\b\b\b\b\b\b\b\b\b\b\b\b\b\b\b\b\b\b\b\b\b\b\b\b\b\b\b\b\b\b\b\b\b\b\b\b\b\b\b\b\b\b\b\b\b\b\b\b\b\b\b\b\b\b\b\b\b\b\b\b\b\b\b\b\b\b\b\b\b\b\b\b\b\b\b\b\b\b\b\b\b\b\b\b\r",
      "  89/1000 [=>............................] - ETA: 54:23 - loss: 3.8584 - rpn_class_loss: 0.2389 - rpn_bbox_loss: 1.1570 - mrcnn_class_loss: 0.4760 - mrcnn_bbox_loss: 0.8467 - mrcnn_mask_loss: 1.1397"
     ]
    },
    {
     "name": "stderr",
     "output_type": "stream",
     "text": [
      "E0718 08:13:12.658492 139806809503488 model.py:1810] Error processing image {'id': 387355, 'source': 'fashion', 'path': '/photos/iamdenie/1689020736/9476125504/9476125504_400.jpg', 'labels': [2, 10, 9, 5, 4, 4], 'polygons': [[192, 186, 206, 193, 210, 193, 217, 195, 221, 197, 236, 200, 235, 205, 233, 207, 227, 210, 216, 205, 215, 207, 207, 207, 202, 199, 187, 192], [225, 216, 221, 224, 217, 230, 218, 233, 221, 234, 222, 237, 227, 239, 229, 239, 239, 241, 235, 247, 219, 241, 204, 241, 198, 241, 186, 239, 186, 232, 185, 227, 181, 224, 178, 208, 187, 209, 202, 214], [226, 216, 201, 213, 179, 207, 185, 200, 190, 194, 202, 200, 204, 205, 213, 207, 215, 206, 229, 211], [235, 200, 209, 193, 202, 191, 191, 186, 192, 162, 198, 154, 199, 147, 194, 128, 193, 124, 199, 129, 208, 131, 216, 131, 220, 131, 225, 126, 224, 111, 232, 130, 225, 155, 234, 169, 229, 184, 233, 190], [219, 100, 246, 109, 252, 137, 251, 147, 251, 155, 252, 160, 248, 158, 242, 159, 239, 168, 237, 204, 233, 196, 232, 190, 227, 184, 229, 177, 234, 171, 226, 159, 226, 151, 232, 129], [190, 119, 200, 150, 193, 159, 193, 170, 190, 198, 178, 211, 180, 158, 172, 156, 168, 156, 162, 161, 162, 124, 163, 111, 169, 107, 175, 107, 175, 114, 180, 127, 179, 132, 183, 132, 186, 129], [168, 204, 167, 212, 164, 211], [227, 363, 238, 377, 240, 385, 238, 391, 233, 392, 220, 387, 223, 384, 231, 383, 234, 380, 237, 378], [198, 386, 198, 391, 193, 394, 177, 391, 175, 385, 175, 375, 178, 385]], 'height': 600, 'width': 400}\n",
      "Traceback (most recent call last):\n",
      "  File \"/root/product_image_segmentation/mask_rcnn_lib/mrcnn/model.py\", line 1709, in data_generator\n",
      "    use_mini_mask=config.USE_MINI_MASK)\n",
      "  File \"/root/product_image_segmentation/mask_rcnn_lib/mrcnn/model.py\", line 1211, in load_image_gt\n",
      "    image = dataset.load_image(image_id)\n",
      "  File \"/root/product_image_segmentation/mask_rcnn_lib/mrcnn/utils.py\", line 372, in load_image\n",
      "    if image.ndim != 3:\n",
      "AttributeError: 'NoneType' object has no attribute 'ndim'\n"
     ]
    },
    {
     "name": "stdout",
     "output_type": "stream",
     "text": [
      "\b\b\b\b\b\b\b\b\b\b\b\b\b\b\b\b\b\b\b\b\b\b\b\b\b\b\b\b\b\b\b\b\b\b\b\b\b\b\b\b\b\b\b\b\b\b\b\b\b\b\b\b\b\b\b\b\b\b\b\b\b\b\b\b\b\b\b\b\b\b\b\b\b\b\b\b\b\b\b\b\b\b\b\b\b\b\b\b\b\b\b\b\b\b\b\b\b\b\b\b\b\b\b\b\b\b\b\b\b\b\b\b\b\b\b\b\b\b\b\b\b\b\b\b\b\b\b\b\b\b\b\b\b\b\b\b\b\b\b\b\b\b\b\b\b\b\b\b\b\b\b\b\b\b\b\b\b\b\b\b\b\b\b\b\b\b\b\b\b\b\b\b\b\b\b\b\b\b\b\b\b\b\b\b\b\b\b\b\b\b\b\b\b\b\b\b\b\b\r",
      "  90/1000 [=>............................] - ETA: 54:11 - loss: 3.8401 - rpn_class_loss: 0.2377 - rpn_bbox_loss: 1.1507 - mrcnn_class_loss: 0.4722 - mrcnn_bbox_loss: 0.8449 - mrcnn_mask_loss: 1.1346"
     ]
    },
    {
     "name": "stderr",
     "output_type": "stream",
     "text": [
      "E0718 08:13:15.344459 139806809503488 model.py:1810] Error processing image {'id': 387355, 'source': 'fashion', 'path': '/photos/iamdenie/1689020736/9476125504/9476125504_400.jpg', 'labels': [2, 10, 9, 5, 4, 4], 'polygons': [[192, 186, 206, 193, 210, 193, 217, 195, 221, 197, 236, 200, 235, 205, 233, 207, 227, 210, 216, 205, 215, 207, 207, 207, 202, 199, 187, 192], [225, 216, 221, 224, 217, 230, 218, 233, 221, 234, 222, 237, 227, 239, 229, 239, 239, 241, 235, 247, 219, 241, 204, 241, 198, 241, 186, 239, 186, 232, 185, 227, 181, 224, 178, 208, 187, 209, 202, 214], [226, 216, 201, 213, 179, 207, 185, 200, 190, 194, 202, 200, 204, 205, 213, 207, 215, 206, 229, 211], [235, 200, 209, 193, 202, 191, 191, 186, 192, 162, 198, 154, 199, 147, 194, 128, 193, 124, 199, 129, 208, 131, 216, 131, 220, 131, 225, 126, 224, 111, 232, 130, 225, 155, 234, 169, 229, 184, 233, 190], [219, 100, 246, 109, 252, 137, 251, 147, 251, 155, 252, 160, 248, 158, 242, 159, 239, 168, 237, 204, 233, 196, 232, 190, 227, 184, 229, 177, 234, 171, 226, 159, 226, 151, 232, 129], [190, 119, 200, 150, 193, 159, 193, 170, 190, 198, 178, 211, 180, 158, 172, 156, 168, 156, 162, 161, 162, 124, 163, 111, 169, 107, 175, 107, 175, 114, 180, 127, 179, 132, 183, 132, 186, 129], [168, 204, 167, 212, 164, 211], [227, 363, 238, 377, 240, 385, 238, 391, 233, 392, 220, 387, 223, 384, 231, 383, 234, 380, 237, 378], [198, 386, 198, 391, 193, 394, 177, 391, 175, 385, 175, 375, 178, 385]], 'height': 600, 'width': 400}\n",
      "Traceback (most recent call last):\n",
      "  File \"/root/product_image_segmentation/mask_rcnn_lib/mrcnn/model.py\", line 1709, in data_generator\n",
      "    use_mini_mask=config.USE_MINI_MASK)\n",
      "  File \"/root/product_image_segmentation/mask_rcnn_lib/mrcnn/model.py\", line 1211, in load_image_gt\n",
      "    image = dataset.load_image(image_id)\n",
      "  File \"/root/product_image_segmentation/mask_rcnn_lib/mrcnn/utils.py\", line 372, in load_image\n",
      "    if image.ndim != 3:\n",
      "AttributeError: 'NoneType' object has no attribute 'ndim'\n"
     ]
    },
    {
     "name": "stdout",
     "output_type": "stream",
     "text": [
      " 139/1000 [===>..........................] - ETA: 46:52 - loss: 3.4895 - rpn_class_loss: 0.2180 - rpn_bbox_loss: 1.1476 - mrcnn_class_loss: 0.3563 - mrcnn_bbox_loss: 0.7963 - mrcnn_mask_loss: 0.9713"
     ]
    },
    {
     "name": "stderr",
     "output_type": "stream",
     "text": [
      "E0718 08:15:27.995589 139806809503488 model.py:1810] Error processing image {'id': 198581, 'source': 'fashion', 'path': '/photos/watermoolen/10875708132/white-cotton-on-vest-blue-olsenboyle-shorts-brown-thrifted-belt-brown-stev_400.jpg', 'labels': [9, 2, 10, 3, 3, 1], 'polygons': [[218, 191, 215, 213, 200, 218, 180, 219, 158, 211, 151, 209, 154, 184, 149, 191, 150, 220, 149, 251, 151, 271, 155, 279, 150, 293, 149, 300, 164, 308, 172, 307, 180, 308, 192, 308, 199, 308, 216, 295, 223, 289, 214, 283, 220, 246, 220, 214, 223, 196], [214, 299, 201, 306, 192, 309, 182, 309, 173, 307, 161, 307, 150, 299, 146, 312, 158, 322, 167, 328, 184, 326, 199, 332, 217, 331, 216, 322, 207, 317, 219, 310], [210, 334, 188, 328, 175, 329, 166, 326, 160, 321, 148, 311, 139, 345, 138, 353, 125, 364, 125, 386, 152, 389, 175, 387, 182, 387, 215, 390, 225, 382, 217, 362, 224, 341, 222, 316, 217, 311, 210, 318, 218, 328, 212, 332], [208, 498, 199, 505, 184, 500, 181, 494, 179, 512, 178, 524, 176, 568, 182, 579, 187, 578, 197, 571, 201, 544, 205, 510], [169, 494, 157, 504, 149, 495, 154, 532, 150, 563, 156, 573, 167, 577, 175, 568, 175, 529, 172, 498], [145, 185, 139, 215, 141, 248, 144, 274, 150, 276, 148, 218, 151, 186], [143, 294, 131, 290, 124, 279, 118, 274, 108, 282, 97, 301, 95, 324, 99, 334, 103, 355, 114, 362, 122, 364, 139, 354, 146, 313, 149, 297]], 'height': 600, 'width': 400}\n",
      "Traceback (most recent call last):\n",
      "  File \"/root/product_image_segmentation/mask_rcnn_lib/mrcnn/model.py\", line 1709, in data_generator\n",
      "    use_mini_mask=config.USE_MINI_MASK)\n",
      "  File \"/root/product_image_segmentation/mask_rcnn_lib/mrcnn/model.py\", line 1211, in load_image_gt\n",
      "    image = dataset.load_image(image_id)\n",
      "  File \"/root/product_image_segmentation/mask_rcnn_lib/mrcnn/utils.py\", line 372, in load_image\n",
      "    if image.ndim != 3:\n",
      "AttributeError: 'NoneType' object has no attribute 'ndim'\n"
     ]
    },
    {
     "name": "stdout",
     "output_type": "stream",
     "text": [
      "\b\b\b\b\b\b\b\b\b\b\b\b\b\b\b\b\b\b\b\b\b\b\b\b\b\b\b\b\b\b\b\b\b\b\b\b\b\b\b\b\b\b\b\b\b\b\b\b\b\b\b\b\b\b\b\b\b\b\b\b\b\b\b\b\b\b\b\b\b\b\b\b\b\b\b\b\b\b\b\b\b\b\b\b\b\b\b\b\b\b\b\b\b\b\b\b\b\b\b\b\b\b\b\b\b\b\b\b\b\b\b\b\b\b\b\b\b\b\b\b\b\b\b\b\b\b\b\b\b\b\b\b\b\b\b\b\b\b\b\b\b\b\b\b\b\b\b\b\b\b\b\b\b\b\b\b\b\b\b\b\b\b\b\b\b\b\b\b\b\b\b\b\b\b\b\b\b\b\b\b\b\b\b\b\b\b\b\b\b\b\b\b\b\b\b\b\b\b\r",
      " 140/1000 [===>..........................] - ETA: 46:46 - loss: 3.4810 - rpn_class_loss: 0.2173 - rpn_bbox_loss: 1.1442 - mrcnn_class_loss: 0.3545 - mrcnn_bbox_loss: 0.7955 - mrcnn_mask_loss: 0.9694"
     ]
    },
    {
     "name": "stderr",
     "output_type": "stream",
     "text": [
      "E0718 08:15:30.647336 139806809503488 model.py:1810] Error processing image {'id': 198581, 'source': 'fashion', 'path': '/photos/watermoolen/10875708132/white-cotton-on-vest-blue-olsenboyle-shorts-brown-thrifted-belt-brown-stev_400.jpg', 'labels': [9, 2, 10, 3, 3, 1], 'polygons': [[218, 191, 215, 213, 200, 218, 180, 219, 158, 211, 151, 209, 154, 184, 149, 191, 150, 220, 149, 251, 151, 271, 155, 279, 150, 293, 149, 300, 164, 308, 172, 307, 180, 308, 192, 308, 199, 308, 216, 295, 223, 289, 214, 283, 220, 246, 220, 214, 223, 196], [214, 299, 201, 306, 192, 309, 182, 309, 173, 307, 161, 307, 150, 299, 146, 312, 158, 322, 167, 328, 184, 326, 199, 332, 217, 331, 216, 322, 207, 317, 219, 310], [210, 334, 188, 328, 175, 329, 166, 326, 160, 321, 148, 311, 139, 345, 138, 353, 125, 364, 125, 386, 152, 389, 175, 387, 182, 387, 215, 390, 225, 382, 217, 362, 224, 341, 222, 316, 217, 311, 210, 318, 218, 328, 212, 332], [208, 498, 199, 505, 184, 500, 181, 494, 179, 512, 178, 524, 176, 568, 182, 579, 187, 578, 197, 571, 201, 544, 205, 510], [169, 494, 157, 504, 149, 495, 154, 532, 150, 563, 156, 573, 167, 577, 175, 568, 175, 529, 172, 498], [145, 185, 139, 215, 141, 248, 144, 274, 150, 276, 148, 218, 151, 186], [143, 294, 131, 290, 124, 279, 118, 274, 108, 282, 97, 301, 95, 324, 99, 334, 103, 355, 114, 362, 122, 364, 139, 354, 146, 313, 149, 297]], 'height': 600, 'width': 400}\n",
      "Traceback (most recent call last):\n",
      "  File \"/root/product_image_segmentation/mask_rcnn_lib/mrcnn/model.py\", line 1709, in data_generator\n",
      "    use_mini_mask=config.USE_MINI_MASK)\n",
      "  File \"/root/product_image_segmentation/mask_rcnn_lib/mrcnn/model.py\", line 1211, in load_image_gt\n",
      "    image = dataset.load_image(image_id)\n",
      "  File \"/root/product_image_segmentation/mask_rcnn_lib/mrcnn/utils.py\", line 372, in load_image\n",
      "    if image.ndim != 3:\n",
      "AttributeError: 'NoneType' object has no attribute 'ndim'\n"
     ]
    },
    {
     "name": "stdout",
     "output_type": "stream",
     "text": [
      "\b\b\b\b\b\b\b\b\b\b\b\b\b\b\b\b\b\b\b\b\b\b\b\b\b\b\b\b\b\b\b\b\b\b\b\b\b\b\b\b\b\b\b\b\b\b\b\b\b\b\b\b\b\b\b\b\b\b\b\b\b\b\b\b\b\b\b\b\b\b\b\b\b\b\b\b\b\b\b\b\b\b\b\b\b\b\b\b\b\b\b\b\b\b\b\b\b\b\b\b\b\b\b\b\b\b\b\b\b\b\b\b\b\b\b\b\b\b\b\b\b\b\b\b\b\b\b\b\b\b\b\b\b\b\b\b\b\b\b\b\b\b\b\b\b\b\b\b\b\b\b\b\b\b\b\b\b\b\b\b\b\b\b\b\b\b\b\b\b\b\b\b\b\b\b\b\b\b\b\b\b\b\b\b\b\b\b\b\b\b\b\b\b\b\b\b\b\b\r",
      " 141/1000 [===>..........................] - ETA: 46:39 - loss: 3.4724 - rpn_class_loss: 0.2167 - rpn_bbox_loss: 1.1409 - mrcnn_class_loss: 0.3528 - mrcnn_bbox_loss: 0.7946 - mrcnn_mask_loss: 0.9675"
     ]
    },
    {
     "name": "stderr",
     "output_type": "stream",
     "text": [
      "E0718 08:15:33.356729 139806809503488 model.py:1810] Error processing image {'id': 198581, 'source': 'fashion', 'path': '/photos/watermoolen/10875708132/white-cotton-on-vest-blue-olsenboyle-shorts-brown-thrifted-belt-brown-stev_400.jpg', 'labels': [9, 2, 10, 3, 3, 1], 'polygons': [[218, 191, 215, 213, 200, 218, 180, 219, 158, 211, 151, 209, 154, 184, 149, 191, 150, 220, 149, 251, 151, 271, 155, 279, 150, 293, 149, 300, 164, 308, 172, 307, 180, 308, 192, 308, 199, 308, 216, 295, 223, 289, 214, 283, 220, 246, 220, 214, 223, 196], [214, 299, 201, 306, 192, 309, 182, 309, 173, 307, 161, 307, 150, 299, 146, 312, 158, 322, 167, 328, 184, 326, 199, 332, 217, 331, 216, 322, 207, 317, 219, 310], [210, 334, 188, 328, 175, 329, 166, 326, 160, 321, 148, 311, 139, 345, 138, 353, 125, 364, 125, 386, 152, 389, 175, 387, 182, 387, 215, 390, 225, 382, 217, 362, 224, 341, 222, 316, 217, 311, 210, 318, 218, 328, 212, 332], [208, 498, 199, 505, 184, 500, 181, 494, 179, 512, 178, 524, 176, 568, 182, 579, 187, 578, 197, 571, 201, 544, 205, 510], [169, 494, 157, 504, 149, 495, 154, 532, 150, 563, 156, 573, 167, 577, 175, 568, 175, 529, 172, 498], [145, 185, 139, 215, 141, 248, 144, 274, 150, 276, 148, 218, 151, 186], [143, 294, 131, 290, 124, 279, 118, 274, 108, 282, 97, 301, 95, 324, 99, 334, 103, 355, 114, 362, 122, 364, 139, 354, 146, 313, 149, 297]], 'height': 600, 'width': 400}\n",
      "Traceback (most recent call last):\n",
      "  File \"/root/product_image_segmentation/mask_rcnn_lib/mrcnn/model.py\", line 1709, in data_generator\n",
      "    use_mini_mask=config.USE_MINI_MASK)\n",
      "  File \"/root/product_image_segmentation/mask_rcnn_lib/mrcnn/model.py\", line 1211, in load_image_gt\n",
      "    image = dataset.load_image(image_id)\n",
      "  File \"/root/product_image_segmentation/mask_rcnn_lib/mrcnn/utils.py\", line 372, in load_image\n",
      "    if image.ndim != 3:\n",
      "AttributeError: 'NoneType' object has no attribute 'ndim'\n"
     ]
    },
    {
     "name": "stdout",
     "output_type": "stream",
     "text": [
      "\b\b\b\b\b\b\b\b\b\b\b\b\b\b\b\b\b\b\b\b\b\b\b\b\b\b\b\b\b\b\b\b\b\b\b\b\b\b\b\b\b\b\b\b\b\b\b\b\b\b\b\b\b\b\b\b\b\b\b\b\b\b\b\b\b\b\b\b\b\b\b\b\b\b\b\b\b\b\b\b\b\b\b\b\b\b\b\b\b\b\b\b\b\b\b\b\b\b\b\b\b\b\b\b\b\b\b\b\b\b\b\b\b\b\b\b\b\b\b\b\b\b\b\b\b\b\b\b\b\b\b\b\b\b\b\b\b\b\b\b\b\b\b\b\b\b\b\b\b\b\b\b\b\b\b\b\b\b\b\b\b\b\b\b\b\b\b\b\b\b\b\b\b\b\b\b\b\b\b\b\b\b\b\b\b\b\b\b\b\b\b\b\b\b\b\b\b\b\r",
      " 142/1000 [===>..........................] - ETA: 46:32 - loss: 3.4639 - rpn_class_loss: 0.2160 - rpn_bbox_loss: 1.1375 - mrcnn_class_loss: 0.3512 - mrcnn_bbox_loss: 0.7937 - mrcnn_mask_loss: 0.9656"
     ]
    },
    {
     "name": "stderr",
     "output_type": "stream",
     "text": [
      "E0718 08:15:36.057375 139806809503488 model.py:1810] Error processing image {'id': 198581, 'source': 'fashion', 'path': '/photos/watermoolen/10875708132/white-cotton-on-vest-blue-olsenboyle-shorts-brown-thrifted-belt-brown-stev_400.jpg', 'labels': [9, 2, 10, 3, 3, 1], 'polygons': [[218, 191, 215, 213, 200, 218, 180, 219, 158, 211, 151, 209, 154, 184, 149, 191, 150, 220, 149, 251, 151, 271, 155, 279, 150, 293, 149, 300, 164, 308, 172, 307, 180, 308, 192, 308, 199, 308, 216, 295, 223, 289, 214, 283, 220, 246, 220, 214, 223, 196], [214, 299, 201, 306, 192, 309, 182, 309, 173, 307, 161, 307, 150, 299, 146, 312, 158, 322, 167, 328, 184, 326, 199, 332, 217, 331, 216, 322, 207, 317, 219, 310], [210, 334, 188, 328, 175, 329, 166, 326, 160, 321, 148, 311, 139, 345, 138, 353, 125, 364, 125, 386, 152, 389, 175, 387, 182, 387, 215, 390, 225, 382, 217, 362, 224, 341, 222, 316, 217, 311, 210, 318, 218, 328, 212, 332], [208, 498, 199, 505, 184, 500, 181, 494, 179, 512, 178, 524, 176, 568, 182, 579, 187, 578, 197, 571, 201, 544, 205, 510], [169, 494, 157, 504, 149, 495, 154, 532, 150, 563, 156, 573, 167, 577, 175, 568, 175, 529, 172, 498], [145, 185, 139, 215, 141, 248, 144, 274, 150, 276, 148, 218, 151, 186], [143, 294, 131, 290, 124, 279, 118, 274, 108, 282, 97, 301, 95, 324, 99, 334, 103, 355, 114, 362, 122, 364, 139, 354, 146, 313, 149, 297]], 'height': 600, 'width': 400}\n",
      "Traceback (most recent call last):\n",
      "  File \"/root/product_image_segmentation/mask_rcnn_lib/mrcnn/model.py\", line 1709, in data_generator\n",
      "    use_mini_mask=config.USE_MINI_MASK)\n",
      "  File \"/root/product_image_segmentation/mask_rcnn_lib/mrcnn/model.py\", line 1211, in load_image_gt\n",
      "    image = dataset.load_image(image_id)\n",
      "  File \"/root/product_image_segmentation/mask_rcnn_lib/mrcnn/utils.py\", line 372, in load_image\n",
      "    if image.ndim != 3:\n",
      "AttributeError: 'NoneType' object has no attribute 'ndim'\n"
     ]
    },
    {
     "name": "stdout",
     "output_type": "stream",
     "text": [
      "\b\b\b\b\b\b\b\b\b\b\b\b\b\b\b\b\b\b\b\b\b\b\b\b\b\b\b\b\b\b\b\b\b\b\b\b\b\b\b\b\b\b\b\b\b\b\b\b\b\b\b\b\b\b\b\b\b\b\b\b\b\b\b\b\b\b\b\b\b\b\b\b\b\b\b\b\b\b\b\b\b\b\b\b\b\b\b\b\b\b\b\b\b\b\b\b\b\b\b\b\b\b\b\b\b\b\b\b\b\b\b\b\b\b\b\b\b\b\b\b\b\b\b\b\b\b\b\b\b\b\b\b\b\b\b\b\b\b\b\b\b\b\b\b\b\b\b\b\b\b\b\b\b\b\b\b\b\b\b\b\b\b\b\b\b\b\b\b\b\b\b\b\b\b\b\b\b\b\b\b\b\b\b\b\b\b\b\b\b\b\b\b\b\b\b\b\b\b\r",
      " 143/1000 [===>..........................] - ETA: 46:26 - loss: 3.4553 - rpn_class_loss: 0.2153 - rpn_bbox_loss: 1.1341 - mrcnn_class_loss: 0.3496 - mrcnn_bbox_loss: 0.7926 - mrcnn_mask_loss: 0.9636"
     ]
    },
    {
     "name": "stderr",
     "output_type": "stream",
     "text": [
      "E0718 08:15:38.758439 139806809503488 model.py:1810] Error processing image {'id': 198581, 'source': 'fashion', 'path': '/photos/watermoolen/10875708132/white-cotton-on-vest-blue-olsenboyle-shorts-brown-thrifted-belt-brown-stev_400.jpg', 'labels': [9, 2, 10, 3, 3, 1], 'polygons': [[218, 191, 215, 213, 200, 218, 180, 219, 158, 211, 151, 209, 154, 184, 149, 191, 150, 220, 149, 251, 151, 271, 155, 279, 150, 293, 149, 300, 164, 308, 172, 307, 180, 308, 192, 308, 199, 308, 216, 295, 223, 289, 214, 283, 220, 246, 220, 214, 223, 196], [214, 299, 201, 306, 192, 309, 182, 309, 173, 307, 161, 307, 150, 299, 146, 312, 158, 322, 167, 328, 184, 326, 199, 332, 217, 331, 216, 322, 207, 317, 219, 310], [210, 334, 188, 328, 175, 329, 166, 326, 160, 321, 148, 311, 139, 345, 138, 353, 125, 364, 125, 386, 152, 389, 175, 387, 182, 387, 215, 390, 225, 382, 217, 362, 224, 341, 222, 316, 217, 311, 210, 318, 218, 328, 212, 332], [208, 498, 199, 505, 184, 500, 181, 494, 179, 512, 178, 524, 176, 568, 182, 579, 187, 578, 197, 571, 201, 544, 205, 510], [169, 494, 157, 504, 149, 495, 154, 532, 150, 563, 156, 573, 167, 577, 175, 568, 175, 529, 172, 498], [145, 185, 139, 215, 141, 248, 144, 274, 150, 276, 148, 218, 151, 186], [143, 294, 131, 290, 124, 279, 118, 274, 108, 282, 97, 301, 95, 324, 99, 334, 103, 355, 114, 362, 122, 364, 139, 354, 146, 313, 149, 297]], 'height': 600, 'width': 400}\n",
      "Traceback (most recent call last):\n",
      "  File \"/root/product_image_segmentation/mask_rcnn_lib/mrcnn/model.py\", line 1709, in data_generator\n",
      "    use_mini_mask=config.USE_MINI_MASK)\n",
      "  File \"/root/product_image_segmentation/mask_rcnn_lib/mrcnn/model.py\", line 1211, in load_image_gt\n",
      "    image = dataset.load_image(image_id)\n",
      "  File \"/root/product_image_segmentation/mask_rcnn_lib/mrcnn/utils.py\", line 372, in load_image\n",
      "    if image.ndim != 3:\n",
      "AttributeError: 'NoneType' object has no attribute 'ndim'\n"
     ]
    },
    {
     "name": "stdout",
     "output_type": "stream",
     "text": [
      "\b\b\b\b\b\b\b\b\b\b\b\b\b\b\b\b\b\b\b\b\b\b\b\b\b\b\b\b\b\b\b\b\b\b\b\b\b\b\b\b\b\b\b\b\b\b\b\b\b\b\b\b\b\b\b\b\b\b\b\b\b\b\b\b\b\b\b\b\b\b\b\b\b\b\b\b\b\b\b\b\b\b\b\b\b\b\b\b\b\b\b\b\b\b\b\b\b\b\b\b\b\b\b\b\b\b\b\b\b\b\b\b\b\b\b\b\b\b\b\b\b\b\b\b\b\b\b\b\b\b\b\b\b\b\b\b\b\b\b\b\b\b\b\b\b\b\b\b\b\b\b\b\b\b\b\b\b\b\b\b\b\b\b\b\b\b\b\b\b\b\b\b\b\b\b\b\b\b\b\b\b\b\b\b\b\b\b\b\b\b\b\b\b\b\b\b\b\b\r",
      " 144/1000 [===>..........................] - ETA: 46:19 - loss: 3.4465 - rpn_class_loss: 0.2146 - rpn_bbox_loss: 1.1307 - mrcnn_class_loss: 0.3480 - mrcnn_bbox_loss: 0.7915 - mrcnn_mask_loss: 0.9617"
     ]
    },
    {
     "name": "stderr",
     "output_type": "stream",
     "text": [
      "E0718 08:15:41.449347 139806809503488 model.py:1810] Error processing image {'id': 198581, 'source': 'fashion', 'path': '/photos/watermoolen/10875708132/white-cotton-on-vest-blue-olsenboyle-shorts-brown-thrifted-belt-brown-stev_400.jpg', 'labels': [9, 2, 10, 3, 3, 1], 'polygons': [[218, 191, 215, 213, 200, 218, 180, 219, 158, 211, 151, 209, 154, 184, 149, 191, 150, 220, 149, 251, 151, 271, 155, 279, 150, 293, 149, 300, 164, 308, 172, 307, 180, 308, 192, 308, 199, 308, 216, 295, 223, 289, 214, 283, 220, 246, 220, 214, 223, 196], [214, 299, 201, 306, 192, 309, 182, 309, 173, 307, 161, 307, 150, 299, 146, 312, 158, 322, 167, 328, 184, 326, 199, 332, 217, 331, 216, 322, 207, 317, 219, 310], [210, 334, 188, 328, 175, 329, 166, 326, 160, 321, 148, 311, 139, 345, 138, 353, 125, 364, 125, 386, 152, 389, 175, 387, 182, 387, 215, 390, 225, 382, 217, 362, 224, 341, 222, 316, 217, 311, 210, 318, 218, 328, 212, 332], [208, 498, 199, 505, 184, 500, 181, 494, 179, 512, 178, 524, 176, 568, 182, 579, 187, 578, 197, 571, 201, 544, 205, 510], [169, 494, 157, 504, 149, 495, 154, 532, 150, 563, 156, 573, 167, 577, 175, 568, 175, 529, 172, 498], [145, 185, 139, 215, 141, 248, 144, 274, 150, 276, 148, 218, 151, 186], [143, 294, 131, 290, 124, 279, 118, 274, 108, 282, 97, 301, 95, 324, 99, 334, 103, 355, 114, 362, 122, 364, 139, 354, 146, 313, 149, 297]], 'height': 600, 'width': 400}\n",
      "Traceback (most recent call last):\n",
      "  File \"/root/product_image_segmentation/mask_rcnn_lib/mrcnn/model.py\", line 1709, in data_generator\n",
      "    use_mini_mask=config.USE_MINI_MASK)\n",
      "  File \"/root/product_image_segmentation/mask_rcnn_lib/mrcnn/model.py\", line 1211, in load_image_gt\n",
      "    image = dataset.load_image(image_id)\n",
      "  File \"/root/product_image_segmentation/mask_rcnn_lib/mrcnn/utils.py\", line 372, in load_image\n",
      "    if image.ndim != 3:\n",
      "AttributeError: 'NoneType' object has no attribute 'ndim'\n"
     ]
    },
    {
     "name": "stdout",
     "output_type": "stream",
     "text": [
      "\b\b\b\b\b\b\b\b\b\b\b\b\b\b\b\b\b\b\b\b\b\b\b\b\b\b\b\b\b\b\b\b\b\b\b\b\b\b\b\b\b\b\b\b\b\b\b\b\b\b\b\b\b\b\b\b\b\b\b\b\b\b\b\b\b\b\b\b\b\b\b\b\b\b\b\b\b\b\b\b\b\b\b\b\b\b\b\b\b\b\b\b\b\b\b\b\b\b\b\b\b\b\b\b\b\b\b\b\b\b\b\b\b\b\b\b\b\b\b\b\b\b\b\b\b\b\b\b\b\b\b\b\b\b\b\b\b\b\b\b\b\b\b\b\b\b\b\b\b\b\b\b\b\b\b\b\b\b\b\b\b\b\b\b\b\b\b\b\b\b\b\b\b\b\b\b\b\b\b\b\b\b\b\b\b\b\b\b\b\b\b\b\b\b\b\b\b\b\r",
      " 145/1000 [===>..........................] - ETA: 46:13 - loss: 3.4408 - rpn_class_loss: 0.2145 - rpn_bbox_loss: 1.1290 - mrcnn_class_loss: 0.3463 - mrcnn_bbox_loss: 0.7912 - mrcnn_mask_loss: 0.9598"
     ]
    },
    {
     "name": "stderr",
     "output_type": "stream",
     "text": [
      "E0718 08:15:44.189540 139806809503488 model.py:1810] Error processing image {'id': 198581, 'source': 'fashion', 'path': '/photos/watermoolen/10875708132/white-cotton-on-vest-blue-olsenboyle-shorts-brown-thrifted-belt-brown-stev_400.jpg', 'labels': [9, 2, 10, 3, 3, 1], 'polygons': [[218, 191, 215, 213, 200, 218, 180, 219, 158, 211, 151, 209, 154, 184, 149, 191, 150, 220, 149, 251, 151, 271, 155, 279, 150, 293, 149, 300, 164, 308, 172, 307, 180, 308, 192, 308, 199, 308, 216, 295, 223, 289, 214, 283, 220, 246, 220, 214, 223, 196], [214, 299, 201, 306, 192, 309, 182, 309, 173, 307, 161, 307, 150, 299, 146, 312, 158, 322, 167, 328, 184, 326, 199, 332, 217, 331, 216, 322, 207, 317, 219, 310], [210, 334, 188, 328, 175, 329, 166, 326, 160, 321, 148, 311, 139, 345, 138, 353, 125, 364, 125, 386, 152, 389, 175, 387, 182, 387, 215, 390, 225, 382, 217, 362, 224, 341, 222, 316, 217, 311, 210, 318, 218, 328, 212, 332], [208, 498, 199, 505, 184, 500, 181, 494, 179, 512, 178, 524, 176, 568, 182, 579, 187, 578, 197, 571, 201, 544, 205, 510], [169, 494, 157, 504, 149, 495, 154, 532, 150, 563, 156, 573, 167, 577, 175, 568, 175, 529, 172, 498], [145, 185, 139, 215, 141, 248, 144, 274, 150, 276, 148, 218, 151, 186], [143, 294, 131, 290, 124, 279, 118, 274, 108, 282, 97, 301, 95, 324, 99, 334, 103, 355, 114, 362, 122, 364, 139, 354, 146, 313, 149, 297]], 'height': 600, 'width': 400}\n",
      "Traceback (most recent call last):\n",
      "  File \"/root/product_image_segmentation/mask_rcnn_lib/mrcnn/model.py\", line 1709, in data_generator\n",
      "    use_mini_mask=config.USE_MINI_MASK)\n",
      "  File \"/root/product_image_segmentation/mask_rcnn_lib/mrcnn/model.py\", line 1211, in load_image_gt\n",
      "    image = dataset.load_image(image_id)\n",
      "  File \"/root/product_image_segmentation/mask_rcnn_lib/mrcnn/utils.py\", line 372, in load_image\n",
      "    if image.ndim != 3:\n",
      "AttributeError: 'NoneType' object has no attribute 'ndim'\n"
     ]
    },
    {
     "name": "stdout",
     "output_type": "stream",
     "text": [
      "\b\b\b\b\b\b\b\b\b\b\b\b\b\b\b\b\b\b\b\b\b\b\b\b\b\b\b\b\b\b\b\b\b\b\b\b\b\b\b\b\b\b\b\b\b\b\b\b\b\b\b\b\b\b\b\b\b\b\b\b\b\b\b\b\b\b\b\b\b\b\b\b\b\b\b\b\b\b\b\b\b\b\b\b\b\b\b\b\b\b\b\b\b\b\b\b\b\b\b\b\b\b\b\b\b\b\b\b\b\b\b\b\b\b\b\b\b\b\b\b\b\b\b\b\b\b\b\b\b\b\b\b\b\b\b\b\b\b\b\b\b\b\b\b\b\b\b\b\b\b\b\b\b\b\b\b\b\b\b\b\b\b\b\b\b\b\b\b\b\b\b\b\b\b\b\b\b\b\b\b\b\b\b\b\b\b\b\b\b\b\b\b\b\b\b\b\b\b\r",
      " 146/1000 [===>..........................] - ETA: 46:07 - loss: 3.4351 - rpn_class_loss: 0.2143 - rpn_bbox_loss: 1.1274 - mrcnn_class_loss: 0.3447 - mrcnn_bbox_loss: 0.7909 - mrcnn_mask_loss: 0.9578"
     ]
    },
    {
     "name": "stderr",
     "output_type": "stream",
     "text": [
      "E0718 08:15:46.873731 139806809503488 model.py:1810] Error processing image {'id': 198581, 'source': 'fashion', 'path': '/photos/watermoolen/10875708132/white-cotton-on-vest-blue-olsenboyle-shorts-brown-thrifted-belt-brown-stev_400.jpg', 'labels': [9, 2, 10, 3, 3, 1], 'polygons': [[218, 191, 215, 213, 200, 218, 180, 219, 158, 211, 151, 209, 154, 184, 149, 191, 150, 220, 149, 251, 151, 271, 155, 279, 150, 293, 149, 300, 164, 308, 172, 307, 180, 308, 192, 308, 199, 308, 216, 295, 223, 289, 214, 283, 220, 246, 220, 214, 223, 196], [214, 299, 201, 306, 192, 309, 182, 309, 173, 307, 161, 307, 150, 299, 146, 312, 158, 322, 167, 328, 184, 326, 199, 332, 217, 331, 216, 322, 207, 317, 219, 310], [210, 334, 188, 328, 175, 329, 166, 326, 160, 321, 148, 311, 139, 345, 138, 353, 125, 364, 125, 386, 152, 389, 175, 387, 182, 387, 215, 390, 225, 382, 217, 362, 224, 341, 222, 316, 217, 311, 210, 318, 218, 328, 212, 332], [208, 498, 199, 505, 184, 500, 181, 494, 179, 512, 178, 524, 176, 568, 182, 579, 187, 578, 197, 571, 201, 544, 205, 510], [169, 494, 157, 504, 149, 495, 154, 532, 150, 563, 156, 573, 167, 577, 175, 568, 175, 529, 172, 498], [145, 185, 139, 215, 141, 248, 144, 274, 150, 276, 148, 218, 151, 186], [143, 294, 131, 290, 124, 279, 118, 274, 108, 282, 97, 301, 95, 324, 99, 334, 103, 355, 114, 362, 122, 364, 139, 354, 146, 313, 149, 297]], 'height': 600, 'width': 400}\n",
      "Traceback (most recent call last):\n",
      "  File \"/root/product_image_segmentation/mask_rcnn_lib/mrcnn/model.py\", line 1709, in data_generator\n",
      "    use_mini_mask=config.USE_MINI_MASK)\n",
      "  File \"/root/product_image_segmentation/mask_rcnn_lib/mrcnn/model.py\", line 1211, in load_image_gt\n",
      "    image = dataset.load_image(image_id)\n",
      "  File \"/root/product_image_segmentation/mask_rcnn_lib/mrcnn/utils.py\", line 372, in load_image\n",
      "    if image.ndim != 3:\n",
      "AttributeError: 'NoneType' object has no attribute 'ndim'\n"
     ]
    },
    {
     "name": "stdout",
     "output_type": "stream",
     "text": [
      " 221/1000 [=====>........................] - ETA: 39:43 - loss: 3.1589 - rpn_class_loss: 0.2018 - rpn_bbox_loss: 1.0526 - mrcnn_class_loss: 0.2855 - mrcnn_bbox_loss: 0.7630 - mrcnn_mask_loss: 0.8560"
     ]
    }
   ],
   "source": [
    "model = modellib.MaskRCNN(mode=\"training\", config=config, model_dir=LOG_DIR)   \n",
    "\n",
    "model.load_weights(FGVC6_WEIGHT_FIEL, by_name=True, \n",
    "                   exclude=[\"mrcnn_class_logits\", \"mrcnn_bbox_fc\",\"mrcnn_bbox\", \"mrcnn_mask\"])\n",
    "\n",
    "augmentation = iaa.Sequential([\n",
    "    # orientation\n",
    "    iaa.Fliplr(0.5),  \n",
    "    #iaa.Fliplr(1),\n",
    "    iaa.Flipud(0.5)\n",
    "], random_order=True)\n",
    "\n",
    "\n",
    "model.train(train_dataset, valid_dataset,\n",
    "            learning_rate=LR,\n",
    "            epochs=EPOCHS[0],\n",
    "            layers='all',\n",
    "            augmentation=augmentation)\n",
    "\n",
    "history = model.keras_model.history.history"
   ]
  },
  {
   "cell_type": "code",
   "execution_count": null,
   "metadata": {},
   "outputs": [],
   "source": []
  },
  {
   "cell_type": "code",
   "execution_count": null,
   "metadata": {},
   "outputs": [],
   "source": []
  },
  {
   "cell_type": "code",
   "execution_count": null,
   "metadata": {},
   "outputs": [],
   "source": []
  }
 ],
 "metadata": {
  "kernelspec": {
   "display_name": "Python 3",
   "language": "python",
   "name": "python3"
  },
  "language_info": {
   "codemirror_mode": {
    "name": "ipython",
    "version": 3
   },
   "file_extension": ".py",
   "mimetype": "text/x-python",
   "name": "python",
   "nbconvert_exporter": "python",
   "pygments_lexer": "ipython3",
   "version": "3.6.8"
  }
 },
 "nbformat": 4,
 "nbformat_minor": 2
}
